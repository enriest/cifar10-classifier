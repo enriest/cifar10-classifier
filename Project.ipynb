{
 "cells": [
  {
   "cell_type": "code",
   "execution_count": null,
   "id": "64d2715d",
   "metadata": {},
   "outputs": [
    {
     "name": "stdout",
     "output_type": "stream",
     "text": [
      "Using mps device\n"
     ]
    },
    {
     "name": "stderr",
     "output_type": "stream",
     "text": [
      "/Users/enriqueestevezalvarez/Documents/Ironhack/Projects/CNN projet/.venv/lib/python3.9/site-packages/urllib3/__init__.py:35: NotOpenSSLWarning: urllib3 v2 only supports OpenSSL 1.1.1+, currently the 'ssl' module is compiled with 'LibreSSL 2.8.3'. See: https://github.com/urllib3/urllib3/issues/3020\n",
      "  warnings.warn(\n"
     ]
    }
   ],
   "source": [
    "# Import all required libraries for the CIFAR-10 CNN project\n",
    "import matplotlib.pyplot as plt\n",
    "import numpy as np\n",
    "import os\n",
    "import pandas as pd\n",
    "import requests\n",
    "import tarfile\n",
    "import torch\n",
    "import torchvision\n",
    "import zipfile\n",
    "from pathlib import Path\n",
    "from plotly import graph_objects as go\n",
    "from sklearn.metrics import accuracy_score, precision_score, recall_score, f1_score, confusion_matrix\n",
    "from torch.utils.data import DataLoader\n",
    "from torchinfo import summary\n",
    "from torchvision import models\n",
    "import torch.nn as nn\n",
    "import torch.optim as optim\n",
    "import torchvision.datasets as datasets\n",
    "import torchvision.transforms as transforms\n",
    "\n",
    "# Configure device for training (GPU if available, otherwise CPU)\n",
    "device = torch.accelerator.current_accelerator().type if torch.accelerator.is_available() else \"cpu\"\n",
    "print(f\"Using {device} device\")"
   ]
  },
  {
   "cell_type": "code",
   "execution_count": null,
   "id": "d508bf40",
   "metadata": {},
   "outputs": [
    {
     "name": "stdout",
     "output_type": "stream",
     "text": [
      "Dataset already extracted.\n"
     ]
    }
   ],
   "source": [
    "# Download and Extract CIFAR-10 Dataset\n",
    "\n",
    "# CIFAR-10 dataset URL from official source (University of Toronto)\n",
    "cifar10_url = \"https://www.cs.toronto.edu/~kriz/cifar-10-python.tar.gz\"\n",
    "\n",
    "# Create directory structure for storing the dataset\n",
    "data_dir = Path(\"cifar10_data\")  # Main directory for CIFAR-10 data\n",
    "archive_path = data_dir / \"cifar-10-python.tar.gz\"  # Path where compressed file will be saved\n",
    "\n",
    "# Create the data directory if it doesn't exist\n",
    "data_dir.mkdir(exist_ok=True)\n",
    "\n",
    "# Check if the dataset archive has already been downloaded\n",
    "if not archive_path.exists():\n",
    "    print(\"Downloading CIFAR-10 dataset...\")\n",
    "    # Stream download to handle large files efficiently\n",
    "    response = requests.get(cifar10_url, stream=True)\n",
    "    \n",
    "    # Write the downloaded content to file in chunks (8KB at a time)\n",
    "    with open(archive_path, \"wb\") as f:\n",
    "        for chunk in response.iter_content(chunk_size=8192):\n",
    "            f.write(chunk)\n",
    "    print(\"Download complete.\")\n",
    "\n",
    "# Define where the extracted files should go\n",
    "extract_dir = data_dir / \"cifar-10-batches-py\"\n",
    "\n",
    "# Check if the dataset has already been extracted\n",
    "if not extract_dir.exists():\n",
    "    print(\"Extracting CIFAR-10 dataset...\")\n",
    "    # Extract the tar.gz archive\n",
    "    with tarfile.open(archive_path, \"r:gz\") as tar:\n",
    "        tar.extractall(path=data_dir)  # Extract all files to data_dir\n",
    "    print(\"Extraction complete.\")\n",
    "else:\n",
    "    print(\"Dataset already extracted.\")\n",
    "\n",
    "# At this point, we have:\n",
    "# - cifar10_data/ (main directory)\n",
    "#   - cifar-10-python.tar.gz (compressed archive)\n",
    "#   - cifar-10-batches-py/ (extracted dataset with batch files)"
   ]
  },
  {
   "cell_type": "code",
   "execution_count": 3,
   "id": "95003021",
   "metadata": {},
   "outputs": [
    {
     "name": "stdout",
     "output_type": "stream",
     "text": [
      "torch.Size([3, 32, 32])\n"
     ]
    }
   ],
   "source": [
    "# Transform to tensor for normalisation for test set\n",
    "transform = transforms.Compose([\n",
    "    transforms.ToTensor(),\n",
    "    transforms.Normalize((0.4914, 0.4822, 0.4465), (0.2470, 0.2435, 0.2616))\n",
    "])\n",
    "\n",
    "# Using values different from ImageNet Stats, calculated with Claude Sonnet 4.5\n",
    "\n",
    "# Transform for the train set (augmentation+normalization)\n",
    "transform_train = transforms.Compose([\n",
    "    transforms.RandomRotation(30),  # Rotate image randomly\n",
    "    transforms.RandomHorizontalFlip(),  # Random horizontal flip\n",
    "    transforms.ColorJitter(brightness=0.2, contrast=0.2),  # Random color adjustments\n",
    "    transforms.ToTensor(),\n",
    "    transforms.Normalize((0.4914, 0.4822, 0.4465), (0.2470, 0.2435, 0.2616))\n",
    "])\n",
    "\n",
    "# Download and load CIFAR-10\n",
    "trainset = datasets.CIFAR10(root=str(data_dir), train=True, transform=transform_train)\n",
    "testset = datasets.CIFAR10(root=str(data_dir), train=False, transform=transform)\n",
    "\n",
    "img, _ = trainset[0]  # Get the first image and its label from the trainset\n",
    "img_tensor = img\n",
    "print(img_tensor.shape)  # Shape: (C, H, W)"
   ]
  },
  {
   "cell_type": "code",
   "execution_count": 4,
   "id": "5e234bc6",
   "metadata": {},
   "outputs": [
    {
     "name": "stderr",
     "output_type": "stream",
     "text": [
      "Clipping input data to the valid range for imshow with RGB data ([0..1] for floats or [0..255] for integers). Got range [-0.48679847..1.5390869].\n"
     ]
    },
    {
     "data": {
      "image/png": "[encoded data removed]",
      "text/plain": [
       "<Figure size 640x480 with 1 Axes>"
      ]
     },
     "metadata": {},
     "output_type": "display_data"
    },
    {
     "name": "stdout",
     "output_type": "stream",
     "text": [
      "frog bird automobile dog\n"
     ]
    }
   ],
   "source": [
    "import torchvision as torchvision\n",
    "\n",
    "# Visualize Sample Images from the CIFAR-10 Training Set\n",
    "\n",
    "# Define the list of class names from the trainset\n",
    "classes = trainset.classes\n",
    "\n",
    "def imshow(img):\n",
    "    # Unnormalize the image (reverse the normalization applied during preprocessing)\n",
    "    img = img / 2 + 0.5\n",
    "    # Convert the tensor to a NumPy array for plotting\n",
    "    npimg = img.numpy()\n",
    "    # Rearrange dimensions from (C, H, W) to (H, W, C) for matplotlib\n",
    "    plt.imshow(np.transpose(npimg, (1, 2, 0)))\n",
    "    plt.axis('off')\n",
    "    plt.show()\n",
    "\n",
    "# Get a batch of 4 random training images and their labels using DataLoader\n",
    "dataiter = iter(DataLoader(trainset, batch_size=4, shuffle=True))\n",
    "images, labels = next(dataiter)\n",
    "\n",
    "# Display the images in a grid\n",
    "imshow(torchvision.utils.make_grid(images))\n",
    "# Print the class names for each image in the batch\n",
    "print(' '.join(f'{classes[labels[j]]}' for j in range(4)))"
   ]
  },
  {
   "cell_type": "code",
   "execution_count": null,
   "id": "b321fb3c",
   "metadata": {},
   "outputs": [],
   "source": [
    "\n",
    "# conv1d = nn.Conv1d(\n",
    "#     in_channels=3, # number of input channels e.g. a colored image has 3 channels, the output of a conv layer with 64 neurons has 64 channels\n",
    "#     out_channels=16, # the number of output chennels corresponds to the number of filters or number of neurons on the layers\n",
    "#     kernel_size=5, # the width and height of each convolution filter\n",
    "#     stride=1, # the number of steps taken for each movement of the filter\n",
    "#     padding=0 # the number of padding cells around the input\n",
    "# )\n",
    "\n",
    "# Let's create the convolutional Neural Network\n"
   ]
  },
  {
   "cell_type": "code",
   "execution_count": null,
   "id": "f35f4459",
   "metadata": {},
   "outputs": [
    {
     "name": "stdout",
     "output_type": "stream",
     "text": [
      "After conv1: torch.Size([1, 32, 32, 32])\n",
      "After conv2: torch.Size([1, 32, 8, 8])\n",
      "After conv3: torch.Size([1, 64, 8, 8])\n",
      "After conv4: torch.Size([1, 64, 2, 2])\n",
      "After flatten: torch.Size([1, 512])\n",
      "After fc: torch.Size([1, 10])\n"
     ]
    }
   ],
   "source": [
    "# Define a Convolutional Neural Network (CNN) class. \n",
    "# 4 layers, with an approach of 1.5 between the 3rd and 4th layers, so it increases channels progressively\n",
    "class CNN(nn.Module):\n",
    "    def __init__(self):\n",
    "        super(CNN, self).__init__()\n",
    "        # First convolutional layer: input 3 channels (RGB), output 32 feature maps\n",
    "        self.conv1 = nn.Conv2d(3, 32, kernel_size=3, stride=1, padding=1)\n",
    "        self.bn1 = nn.BatchNorm2d(32)  \n",
    "        \n",
    "        # Second convolutional layer: input 32, output 32 feature maps\n",
    "        self.conv2 = nn.Conv2d(32, 32, kernel_size=3, stride=2, padding=1)\n",
    "        self.bn2 = nn.BatchNorm2d(32)\n",
    "        self.pool1 = nn.MaxPool2d(2, 2)\n",
    "        self.dropout1 = nn.Dropout(0.25)\n",
    "\n",
    "        # Third convolutional layer: input 64, output 64 feature maps\n",
    "        self.conv3 = nn.Conv2d(32, 64, kernel_size=3, stride=1, padding=1)\n",
    "        self.bn3 = nn.BatchNorm2d(64)\n",
    "\n",
    "        # Fourth convolutional layer: input 96, output 128 feature maps\n",
    "        self.conv4 = nn.Conv2d(64, 64, kernel_size=3, stride=2, padding=1)\n",
    "        self.bn4 = nn.BatchNorm2d(64)\n",
    "        self.pool2 = nn.MaxPool2d(2, 2)\n",
    "        self.dropout2 = nn.Dropout(0.25)\n",
    "\n",
    "        # Adding new layers for better perfomance\n",
    "        self.conv5 = nn.Conv2d(64, 128, kernel_size=3, stride=1, padding=1)\n",
    "        self.bn5 = nn.BatchNorm2d(128)\n",
    "\n",
    "        self.conv6 = nn.Conv2d(128, 128, kernel_size=3, stride=1, padding=1)\n",
    "        self.bn6 = nn.BatchNorm2d(128)\n",
    "        self.pool3 = nn.MaxPool2d(2, 2)\n",
    "        self.dropout3 = nn.Dropout(0.25)\n",
    "\n",
    "        # Flatten layer to convert 2D feature maps to 1D feature vector\n",
    "        self.flatten = nn.Flatten()\n",
    "        # Placeholder fully connected layer, upadted after flatten and 10 classes\n",
    "        self.fc1 = nn.Linear(128 * 4 * 4, 512)\n",
    "        self.dropout4 = nn.Dropout(0.5)\n",
    "        self.fc2 = nn.Linear(512, 10)\n",
    "        # Sigmoid activation for output (for binary classification)\n",
    "        # self.sigmoid = nn.Sigmoid()\n",
    "        ## Not using sigmoid since it has 10 classes and it's not binary\n",
    "    \n",
    "    def forward(self, x, verbose=False):\n",
    "        # Pass input through first conv layer and apply ReLU activation\n",
    "        x = torch.relu(self.bn1(self.conv1(x)))\n",
    "        if verbose: print(\"After conv1:\", x.shape)\n",
    "        # Second conv layer + ReLU\n",
    "        x = torch.relu(self.bn2(self.conv2(x)))\n",
    "        x = self.pool1(x)\n",
    "        x = self.dropout1(x)\n",
    "        if verbose: print(\"After conv2:\", x.shape)\n",
    "        # Third conv layer + ReLU\n",
    "        x = torch.relu(self.bn3(self.conv3(x)))\n",
    "        if verbose: print(\"After conv3:\", x.shape)\n",
    "        # Fourth conv layer + ReLU\n",
    "        x = torch.relu(self.bn4(self.conv4(x)))\n",
    "        x = self.pool2(x)\n",
    "        x = self.dropout2(x)\n",
    "        if verbose: print(\"After conv4:\", x.shape)\n",
    "\n",
    "        x = torch.relu(self.bn5(self.conv5(x)))\n",
    "        x = torch.relu(self.bn6(self.conv6(x)))\n",
    "        x = self.pool3(x)\n",
    "        #x = self.dropout3(x)\n",
    "\n",
    "        # Flatten the output for the fully connected layer\n",
    "        x = self.flatten(x)\n",
    "        x = torch.relu(self.fc1(x))\n",
    "        x = self.dropout4(x)\n",
    "        if verbose: print(\"After flatten:\", x.shape)\n",
    "        x = self.fc2(x)\n",
    "        if verbose: print(\"After fc:\", x.shape)\n",
    "        return x\n",
    "    \n",
    "    def get_model_info(self):\n",
    "        total_params = sum(p.numel() for p in self.parameters())\n",
    "        trainable_params = sum(p.numel() for p in self.parameters() if p.requires_grad)\n",
    "        return f\"Total params: {total_params:,}, Trainable: {trainable_params:,}\"\n",
    "\n",
    "# ---- Utility to automatically adjust the Linear layer ---- This is the utility function ----\n",
    "def initialize_model(input_shape=(3, 32, 32)):\n",
    "    # Create a dummy input tensor with the given shape\n",
    "    dummy = torch.zeros(1, *input_shape)  # batch size 1\n",
    "    model = CNN()\n",
    "    # Forward pass through conv layers to determine flatten size\n",
    "    with torch.no_grad():\n",
    "        out = model.conv1(dummy)\n",
    "        out = torch.relu(model.bn1(out))\n",
    "        out = model.conv2(out)\n",
    "        out = torch.relu(model.bn2(out))\n",
    "        out = model.pool1(out)\n",
    "        out = model.dropout1(out)\n",
    "        out = model.conv3(out)\n",
    "        out = torch.relu(model.bn3(out))\n",
    "        out = model.conv4(out)\n",
    "        out = torch.relu(model.bn4(out))\n",
    "        out = model.pool2(out)\n",
    "        out = model.dropout2(out)\n",
    "        out = model.conv5(out)\n",
    "        out = torch.relu(model.bn5(out))\n",
    "        out = model.conv6(out)\n",
    "        out = torch.relu(model.bn6(out))\n",
    "        out = model.pool3(out)\n",
    "        #out = model.dropout3(out)\n",
    "        out = model.flatten(out)\n",
    "        flatten_size = out.shape[1]\n",
    "    # Redefine the fully connected layer with the correct input size\n",
    "    model.fc1 = nn.Linear(flatten_size, 512)\n",
    "    model.fc2 = nn.Linear(512, 10)\n",
    "    return model\n",
    "\n",
    "# Example: initialize for 32x32 input images (to match the test input below)\n",
    "model = initialize_model(input_shape=(3, 32, 32))\n",
    "\n",
    "# Test forward with shape debugging\n",
    "x = torch.randn(1, 3, 32, 32)\n",
    "_ = model(x, verbose=True)"
   ]
  },
  {
   "cell_type": "markdown",
   "id": "13f42c8f",
   "metadata": {},
   "source": [
    "## **Why Use Dropout, Pooling, and Batch Normalization?**\n",
    "\n",
    "Let me explain each technique and how they help your CNN:\n",
    "\n",
    "---\n",
    "\n",
    "## **1. Batch Normalization** 📊\n",
    "\n",
    "### **What it does:**\n",
    "Normalizes the inputs to each layer so they have mean≈0 and std≈1.\n",
    "\n",
    "### **Why it helps:**\n",
    "- **Faster training:** Networks converge much quicker\n",
    "- **Stable gradients:** Prevents vanishing/exploding gradients\n",
    "- **Less sensitive to initialization:** More robust training\n",
    "- **Slight regularization effect:** Reduces overfitting a bit\n",
    "\n",
    "### **In your model:**\n"
   ]
  },
  {
   "cell_type": "markdown",
   "id": "a3ce507b",
   "metadata": {},
   "source": [
    "\n",
    "\n",
    "**Result:** Your model trains faster and more reliably!\n",
    "\n",
    "---\n",
    "\n",
    "## **2. Dropout** 🎲\n",
    "\n",
    "### **What it does:**\n",
    "Randomly sets 50% of neurons to zero during training.\n",
    "\n",
    "### **Why it helps:**\n",
    "- **Prevents overfitting:** Forces model to not rely on specific neurons\n",
    "- **Better generalization:** Model learns more robust features\n",
    "- **Reduces memorization:** Can't memorize training data patterns\n",
    "\n",
    "### **In your model:**\n"
   ]
  },
  {
   "cell_type": "markdown",
   "id": "821a013f",
   "metadata": {},
   "source": [
    "\n",
    "\n",
    "**Result:** Your model performs better on new, unseen data!\n",
    "\n",
    "---\n",
    "\n",
    "## **3. Pooling** 🏊‍♂️\n",
    "\n",
    "### **What it does:**\n",
    "Reduces spatial dimensions by taking max/average values in small regions.\n",
    "\n",
    "### **Why it helps:**\n",
    "- **Reduces parameters:** Fewer computations needed\n",
    "- **Translation invariance:** Object recognition regardless of position\n",
    "- **Prevents overfitting:** Less detailed features = less memorization\n",
    "- **Computational efficiency:** Smaller feature maps = faster processing\n",
    "\n",
    "### **You're NOT using pooling currently:**\n",
    "Instead, you use **stride=2** which achieves similar dimension reduction:\n"
   ]
  },
  {
   "cell_type": "markdown",
   "id": "26e12e52",
   "metadata": {},
   "source": [
    "\n",
    "\n",
    "---\n",
    "\n",
    "## **Visual Example:**\n",
    "\n"
   ]
  },
  {
   "cell_type": "markdown",
   "id": "1159beec",
   "metadata": {},
   "source": [
    "Input: 32×32×3 image\n",
    "     ↓ conv1 + bn1 + relu (stride=2)\n",
    "   16×16×32 ← Batch norm stabilizes training\n",
    "     ↓ conv2 + bn2 + relu (stride=2)  \n",
    "   8×8×64   ← More batch norm\n",
    "     ↓ conv3 + bn3 + relu (stride=2)\n",
    "   4×4×96   ← Even more batch norm  \n",
    "     ↓ conv4 + bn4 + relu (stride=2)\n",
    "   2×2×128  ← Final batch norm\n",
    "     ↓ flatten\n",
    "   512      ← 1D vector\n",
    "     ↓ dropout (50% neurons zeroed)\n",
    "   512      ← Some neurons randomly off\n",
    "     ↓ fully connected\n",
    "   10       ← Final predictions"
   ]
  },
  {
   "cell_type": "markdown",
   "id": "0be723df",
   "metadata": {},
   "source": [
    "\n",
    "\n",
    "## **Summary:**\n",
    "- **Batch Norm:** Makes training faster and more stable\n",
    "- **Dropout:** Prevents overfitting, improves generalization  \n",
    "- **Pooling (or stride=2):** Reduces size, adds translation invariance\n",
    "\n",
    "**Your current approach is excellent!** You're using batch norm and dropout effectively, and stride=2 instead of pooling works great too."
   ]
  },
  {
   "cell_type": "markdown",
   "id": "538fb07c",
   "metadata": {},
   "source": [
    "After this comment line, there is a **utility function** that automatically calculates the correct input size for the fully connected (Linear) layer.\n",
    "\n",
    "## **The Problem:**\n",
    "When you design a CNN, after all the convolutional and pooling layers, you need to flatten the output and connect it to a fully connected layer. But it's hard to manually calculate what size the flattened output will be after all those transformations.\n",
    "\n",
    "## **The Solution:**\n",
    "The `initialize_model()` function:\n",
    "1. **Creates a dummy input** with the specified shape (e.g., 3×100×100 for a color image)\n",
    "2. **Runs it through all the convolutional layers** to see what size comes out\n",
    "3. **Calculates the flattened size** (how many numbers you get after flattening)\n",
    "4. **Updates the Linear layer** to have the correct input size\n",
    "\n",
    "## **Why This is Useful:**\n",
    "Instead of manually calculating \"after 4 conv layers with stride 2, my 32×32 image becomes X×X size,\" this function does it automatically by actually running a test input through the network and measuring the result.\n",
    "\n",
    "This ensures your fully connected layer has the right input size to connect properly with the convolutional layers above it."
   ]
  },
  {
   "cell_type": "code",
   "execution_count": 8,
   "id": "2ce5ec5e",
   "metadata": {},
   "outputs": [
    {
     "data": {
      "text/plain": [
       "==========================================================================================\n",
       "Layer (type:depth-idx)                   Output Shape              Param #\n",
       "==========================================================================================\n",
       "CNN                                      [1, 10]                   --\n",
       "├─Conv2d: 1-1                            [1, 32, 32, 32]           896\n",
       "├─BatchNorm2d: 1-2                       [1, 32, 32, 32]           64\n",
       "├─Conv2d: 1-3                            [1, 32, 16, 16]           9,248\n",
       "├─BatchNorm2d: 1-4                       [1, 32, 16, 16]           64\n",
       "├─MaxPool2d: 1-5                         [1, 32, 8, 8]             --\n",
       "├─Dropout: 1-6                           [1, 32, 8, 8]             --\n",
       "├─Conv2d: 1-7                            [1, 64, 8, 8]             18,496\n",
       "├─BatchNorm2d: 1-8                       [1, 64, 8, 8]             128\n",
       "├─Conv2d: 1-9                            [1, 64, 4, 4]             36,928\n",
       "├─BatchNorm2d: 1-10                      [1, 64, 4, 4]             128\n",
       "├─MaxPool2d: 1-11                        [1, 64, 2, 2]             --\n",
       "├─Dropout: 1-12                          [1, 64, 2, 2]             --\n",
       "├─Conv2d: 1-13                           [1, 128, 2, 2]            73,856\n",
       "├─BatchNorm2d: 1-14                      [1, 128, 2, 2]            256\n",
       "├─Conv2d: 1-15                           [1, 128, 2, 2]            147,584\n",
       "├─BatchNorm2d: 1-16                      [1, 128, 2, 2]            256\n",
       "├─MaxPool2d: 1-17                        [1, 128, 1, 1]            --\n",
       "├─Flatten: 1-18                          [1, 128]                  --\n",
       "├─Linear: 1-19                           [1, 512]                  66,048\n",
       "├─Dropout: 1-20                          [1, 512]                  --\n",
       "├─Linear: 1-21                           [1, 10]                   5,130\n",
       "==========================================================================================\n",
       "Total params: 359,082\n",
       "Trainable params: 359,082\n",
       "Non-trainable params: 0\n",
       "Total mult-adds (M): 6.02\n",
       "==========================================================================================\n",
       "Input size (MB): 0.01\n",
       "Forward/backward pass size (MB): 0.76\n",
       "Params size (MB): 1.44\n",
       "Estimated Total Size (MB): 2.21\n",
       "=========================================================================================="
      ]
     },
     "execution_count": 8,
     "metadata": {},
     "output_type": "execute_result"
    }
   ],
   "source": [
    "from torchinfo import summary\n",
    "\n",
    "summary(model, input_size=(1, 3, 32, 32))  # (batch_size, channels, height, width)\n",
    "# the input size is the same as the default by the model"
   ]
  },
  {
   "cell_type": "markdown",
   "id": "5bc0bc0f",
   "metadata": {},
   "source": [
    "Now that the model is defined we need to define the loss function, the optimizer, and start training."
   ]
  },
  {
   "cell_type": "code",
   "execution_count": null,
   "id": "04aa396c",
   "metadata": {},
   "outputs": [],
   "source": [
    "# Creating a function for early stopping\n",
    "\n",
    "class EarlyStopping:\n",
    "    def __init__(self, patience=5, min_delta=0, restore_best_weights=True):\n",
    "        \"\"\"\n",
    "        Early stopping to stop training when validation loss stops improving.\n",
    "        \n",
    "        Args:\n",
    "            patience (int): How many epochs to wait after last improvement\n",
    "            min_delta (float): Minimum change to qualify as an improvement\n",
    "            restore_best_weights (bool): Whether to restore model weights from best epoch\n",
    "        \"\"\"\n",
    "        self.patience = patience  # Number of epochs to wait before stopping\n",
    "        self.min_delta = min_delta  # Minimum improvement threshold\n",
    "        self.restore_best_weights = restore_best_weights  # Whether to restore best weights\n",
    "        self.best_loss = None  # Track the best validation loss seen so far\n",
    "        self.counter = 0  # Count epochs without improvement\n",
    "        self.best_weights = None  # Store the best model weights\n",
    "        \n",
    "    def __call__(self, val_loss, model):\n",
    "        \"\"\"\n",
    "        Check if training should stop and update internal state.\n",
    "        \n",
    "        Args:\n",
    "            val_loss (float): Current validation loss\n",
    "            model: The PyTorch model being trained\n",
    "            \n",
    "        Returns:\n",
    "            bool: True if training should stop, False if it should continue\n",
    "        \"\"\"\n",
    "        # First epoch - initialize best loss and save weights\n",
    "        if self.best_loss is None:\n",
    "            self.best_loss = val_loss\n",
    "            self.save_checkpoint(model)\n",
    "            \n",
    "        # Check if current loss is better than best loss (by at least min_delta)\n",
    "        elif val_loss < self.best_loss - self.min_delta:\n",
    "            # Improvement found - update best loss, reset counter, save weights\n",
    "            self.best_loss = val_loss\n",
    "            self.counter = 0  # Reset the patience counter\n",
    "            self.save_checkpoint(model)\n",
    "            \n",
    "        else:\n",
    "            # No improvement - increment counter\n",
    "            self.counter += 1\n",
    "            \n",
    "        # Check if we've exceeded patience limit\n",
    "        if self.counter >= self.patience:\n",
    "            # Restore best weights if requested\n",
    "            if self.restore_best_weights:\n",
    "                model.load_state_dict(self.best_weights)\n",
    "            return True  # Signal to stop training\n",
    "            \n",
    "        return False  # Continue training\n",
    "    \n",
    "    def save_checkpoint(self, model):\n",
    "        \"\"\"\n",
    "        Save the current model weights as the best checkpoint.\n",
    "        \n",
    "        Args:\n",
    "            model: The PyTorch model to save weights from\n",
    "        \"\"\"\n",
    "        # Create a deep copy of the model's state dictionary\n",
    "        # This prevents issues if the original model weights change\n",
    "        self.best_weights = model.state_dict().copy()"
   ]
  },
  {
   "cell_type": "code",
   "execution_count": 10,
   "id": "9f0825af",
   "metadata": {},
   "outputs": [],
   "source": [
    "import torch.optim as optim\n",
    "\n",
    "# Changing the model so it adds up the early stopping function\n",
    "\n",
    "criterion = nn.CrossEntropyLoss()\n",
    "# Adding a regularisation technique for avoiding overfitting. Handicap to the loss function.\n",
    "# This is light, common for CNNs\n",
    "optimizer = optim.Adam(model.parameters(), lr=0.001, weight_decay=1e-4)\n",
    "# Adding a scheduler. It adjusts automatiquely the learning rate during the training allowing us to use different learning rates in different moments\n",
    "scheduler = optim.lr_scheduler.StepLR(optimizer, step_size=7, gamma=0.1)\n",
    "\n",
    "\n",
    "# Training loop\n",
    "from torch.utils.data import DataLoader\n",
    "\n",
    "def train(model, train_loader, val_loader, criterion, optimizer, scheduler, epochs=100, patience=5):\n",
    "    \"\"\"\n",
    "    Function to train a PyTorch model with training and validation datasets.\n",
    "    \n",
    "    Parameters:\n",
    "    model: The neural network model to train.\n",
    "    train_loader: DataLoader for the training dataset.\n",
    "    val_loader: DataLoader for the validation dataset.\n",
    "    criterion: Loss function (e.g., Binary Cross Entropy for classification).\n",
    "    optimizer: Optimization algorithm (e.g., Adam, SGD).\n",
    "    epochs: Number of training epochs (default=100).\n",
    "    \n",
    "    Returns:\n",
    "    history: Dictionary containing loss and accuracy for both training and validation.\n",
    "    \"\"\"\n",
    "    \n",
    "    # Initialize early stopping\n",
    "    early_stopping = EarlyStopping(patience=patience, min_delta=0.001, restore_best_weights=True)\n",
    "\n",
    "    # Dictionary to store training & validation loss and accuracy over epochs\n",
    "    history = {'loss': [], 'val_loss': [], 'accuracy': [], 'val_accuracy': []}\n",
    "    best_val_loss = float('inf')\n",
    "    best_val_acc = 0.0\n",
    "    best_epoch = 0\n",
    "\n",
    "    for epoch in range(epochs):  # Loop over the number of epochs\n",
    "        model.train()  # Set model to training mode\n",
    "        total_loss, correct = 0, 0  # Initialize total loss and correct predictions\n",
    "        \n",
    "        # Training loop\n",
    "        for inputs, labels in train_loader:\n",
    "            optimizer.zero_grad()  # Reset gradients before each batch\n",
    "            outputs = model(inputs)  # Forward pass, outputs shape: [batch, 10]\n",
    "            loss = criterion(outputs, labels)  # labels shape: [batch], int64\n",
    "            loss.backward()  # Backpropagation (compute gradients)\n",
    "            optimizer.step()  # Update model parameters\n",
    "            \n",
    "            total_loss += loss.item()  # Accumulate batch loss\n",
    "            _, predicted = torch.max(outputs, 1)\n",
    "            correct += (predicted == labels).sum().item()  # Count correct predictions\n",
    "        \n",
    "        # Compute average loss and accuracy for training\n",
    "        train_loss = total_loss / len(train_loader)\n",
    "        train_acc = correct / len(train_loader.dataset)\n",
    "        \n",
    "        # Validation phase (without gradient computation)\n",
    "        model.eval()  # Set model to evaluation mode\n",
    "        val_loss, val_correct = 0, 0\n",
    "        with torch.no_grad():  # No need to compute gradients during validation\n",
    "            for val_inputs, val_labels in val_loader:\n",
    "                outputs = model(val_inputs)\n",
    "                loss = criterion(outputs, val_labels)\n",
    "                val_loss += loss.item()\n",
    "                _, predicted = torch.max(outputs, 1)\n",
    "                val_correct += (predicted == val_labels).sum().item()\n",
    "        \n",
    "        # Compute average loss and accuracy for validation\n",
    "        val_loss /= len(val_loader)\n",
    "        val_acc = val_correct / len(val_loader.dataset)\n",
    "\n",
    "        # Update learning rate\n",
    "        scheduler.step()\n",
    "        \n",
    "        # Store metrics in history dictionary\n",
    "        history['loss'].append(train_loss)\n",
    "        history['val_loss'].append(val_loss)\n",
    "        history['accuracy'].append(train_acc)\n",
    "        history['val_accuracy'].append(val_acc)\n",
    "        \n",
    "        # Print training progress\n",
    "        print(f\"Epoch [{epoch+1}/{epochs}], Loss: {train_loss:.4f}, Acc: {train_acc:.4f}, \"\n",
    "              f\"Val Loss: {val_loss:.4f}, Val Acc: {val_acc:.4f}, LR: {scheduler.get_last_lr()[0]:.6f}\")\n",
    "    \n",
    "            # Save best model based on validation accuracy\n",
    "        if val_acc > best_val_acc:\n",
    "            best_val_acc = val_acc\n",
    "            best_val_loss = val_loss\n",
    "            best_epoch = epoch + 1\n",
    "\n",
    "            # Save the best model\n",
    "            torch.save({\n",
    "                'epoch': best_epoch,\n",
    "                'model_state_dict': model.state_dict(),\n",
    "                'optimizer_state_dict': optimizer.state_dict(),\n",
    "                'best_val_loss': best_val_loss,\n",
    "                'best_val_acc': best_val_acc,\n",
    "                'train_loss': train_loss,\n",
    "                'train_acc': train_acc}, 'best_model_cifar10.pth')\n",
    "            \n",
    "            print(f\"💾 New best model saved! Epoch {best_epoch}, Val Acc: {best_val_acc:.4f}\")\n",
    "\n",
    "\n",
    "        if early_stopping(val_loss, model):\n",
    "            print(f\"🛑 Early stopping triggered after {epoch+1} epochs\")\n",
    "            print(f\"Best validation loss: {early_stopping.best_loss:.4f}\")\n",
    "            break\n",
    "    \n",
    "    print(f\"\\nTraining completed!\")\n",
    "    print(f\"Best model from epoch {best_epoch}\")\n",
    "    print(f\"Best validation accuracy: {best_val_acc:.4f}\")\n",
    "    print(f\"Best validation loss: {best_val_loss:.4f}\")\n",
    "\n",
    "    return history  # Return training history"
   ]
  },
  {
   "cell_type": "code",
   "execution_count": 11,
   "id": "ae3768d1",
   "metadata": {},
   "outputs": [
    {
     "name": "stdout",
     "output_type": "stream",
     "text": [
      "✅ Loaded best model from epoch 21\n",
      "Best validation accuracy: 0.7337\n",
      "Best validation loss: 0.7550\n",
      "✅ Model ready for evaluation!\n"
     ]
    }
   ],
   "source": [
    "def load_best_model(model_path='best_model_cifar10.pth'):\n",
    "    \"\"\"Load the best saved model\"\"\"\n",
    "    \n",
    "    # Check if the model file exists\n",
    "    if not os.path.exists(model_path):\n",
    "        print(f\"❌ Model file '{model_path}' not found.\")\n",
    "        print(\"Please run the training cell first to create the saved model.\")\n",
    "        return None, None\n",
    "    \n",
    "    # Load checkpoint\n",
    "    checkpoint = torch.load(model_path, map_location='cpu')\n",
    "    \n",
    "    # Create model instance (same architecture)\n",
    "    model = initialize_model(input_shape=(3, 32, 32))\n",
    "    \n",
    "    # Load the best weights\n",
    "    model.load_state_dict(checkpoint['model_state_dict'])\n",
    "    model.eval()\n",
    "\n",
    "    # Move to appropriate device\n",
    "    device = torch.device(\"cuda\" if torch.cuda.is_available() else \"cpu\")\n",
    "    model = model.to(device)\n",
    "\n",
    "    # Print model info\n",
    "    print(f\"✅ Loaded best model from epoch {checkpoint['epoch']}\")\n",
    "    val_acc = checkpoint.get('best_val_acc', 0.0)\n",
    "    if val_acc != 0.0:\n",
    "        print(f\"Best validation accuracy: {val_acc:.4f}\")\n",
    "    else:\n",
    "        print(f\"Best validation accuracy: N/A\")\n",
    "    print(f\"Best validation loss: {checkpoint.get('best_val_loss', 'N/A'):.4f}\")\n",
    "    \n",
    "    return model, checkpoint\n",
    "\n",
    "# Usage - only try to load if the file exists\n",
    "if os.path.exists('best_model_cifar10.pth'):\n",
    "    best_model, checkpoint_info = load_best_model('best_model_cifar10.pth')\n",
    "    if best_model is not None:\n",
    "        print(\"✅ Model ready for evaluation!\")\n",
    "    else:\n",
    "        print(\"❌ Failed to load model\")\n",
    "else:\n",
    "    print(\"📝 No saved model found. Run training first!\")\n",
    "    best_model, checkpoint_info = None, None"
   ]
  },
  {
   "cell_type": "code",
   "execution_count": null,
   "id": "fb022979",
   "metadata": {},
   "outputs": [
    {
     "name": "stdout",
     "output_type": "stream",
     "text": [
      "Training samples: 50,000\n",
      "Validation samples: 10,000\n",
      "Batch size: 64\n",
      "Training batches: 782\n",
      "Validation batches: 157\n",
      "Epoch [1/30], Loss: 1.6516, Acc: 0.3861, Val Loss: 1.3037, Val Acc: 0.5236, LR: 0.001000\n",
      "💾 New best model saved! Epoch 1, Val Acc: 0.5236\n",
      "Epoch [1/30], Loss: 1.6516, Acc: 0.3861, Val Loss: 1.3037, Val Acc: 0.5236, LR: 0.001000\n",
      "💾 New best model saved! Epoch 1, Val Acc: 0.5236\n",
      "Epoch [2/30], Loss: 1.4142, Acc: 0.4865, Val Loss: 1.1548, Val Acc: 0.5795, LR: 0.001000\n",
      "💾 New best model saved! Epoch 2, Val Acc: 0.5795\n",
      "Epoch [2/30], Loss: 1.4142, Acc: 0.4865, Val Loss: 1.1548, Val Acc: 0.5795, LR: 0.001000\n",
      "💾 New best model saved! Epoch 2, Val Acc: 0.5795\n",
      "Epoch [3/30], Loss: 1.3065, Acc: 0.5304, Val Loss: 1.0997, Val Acc: 0.5995, LR: 0.001000\n",
      "💾 New best model saved! Epoch 3, Val Acc: 0.5995\n",
      "Epoch [3/30], Loss: 1.3065, Acc: 0.5304, Val Loss: 1.0997, Val Acc: 0.5995, LR: 0.001000\n",
      "💾 New best model saved! Epoch 3, Val Acc: 0.5995\n",
      "Epoch [4/30], Loss: 1.2442, Acc: 0.5576, Val Loss: 0.9976, Val Acc: 0.6372, LR: 0.001000\n",
      "💾 New best model saved! Epoch 4, Val Acc: 0.6372\n",
      "Epoch [4/30], Loss: 1.2442, Acc: 0.5576, Val Loss: 0.9976, Val Acc: 0.6372, LR: 0.001000\n",
      "💾 New best model saved! Epoch 4, Val Acc: 0.6372\n",
      "Epoch [5/30], Loss: 1.1972, Acc: 0.5752, Val Loss: 0.9483, Val Acc: 0.6645, LR: 0.001000\n",
      "💾 New best model saved! Epoch 5, Val Acc: 0.6645\n",
      "Epoch [5/30], Loss: 1.1972, Acc: 0.5752, Val Loss: 0.9483, Val Acc: 0.6645, LR: 0.001000\n",
      "💾 New best model saved! Epoch 5, Val Acc: 0.6645\n",
      "Epoch [6/30], Loss: 1.1517, Acc: 0.5939, Val Loss: 0.9025, Val Acc: 0.6811, LR: 0.001000\n",
      "💾 New best model saved! Epoch 6, Val Acc: 0.6811\n",
      "Epoch [6/30], Loss: 1.1517, Acc: 0.5939, Val Loss: 0.9025, Val Acc: 0.6811, LR: 0.001000\n",
      "💾 New best model saved! Epoch 6, Val Acc: 0.6811\n",
      "Epoch [7/30], Loss: 1.1205, Acc: 0.6068, Val Loss: 0.9398, Val Acc: 0.6668, LR: 0.000100\n",
      "Epoch [7/30], Loss: 1.1205, Acc: 0.6068, Val Loss: 0.9398, Val Acc: 0.6668, LR: 0.000100\n",
      "Epoch [8/30], Loss: 1.0291, Acc: 0.6355, Val Loss: 0.8122, Val Acc: 0.7125, LR: 0.000100\n",
      "💾 New best model saved! Epoch 8, Val Acc: 0.7125\n",
      "Epoch [8/30], Loss: 1.0291, Acc: 0.6355, Val Loss: 0.8122, Val Acc: 0.7125, LR: 0.000100\n",
      "💾 New best model saved! Epoch 8, Val Acc: 0.7125\n",
      "Epoch [9/30], Loss: 1.0060, Acc: 0.6461, Val Loss: 0.7931, Val Acc: 0.7166, LR: 0.000100\n",
      "💾 New best model saved! Epoch 9, Val Acc: 0.7166\n",
      "Epoch [9/30], Loss: 1.0060, Acc: 0.6461, Val Loss: 0.7931, Val Acc: 0.7166, LR: 0.000100\n",
      "💾 New best model saved! Epoch 9, Val Acc: 0.7166\n",
      "Epoch [10/30], Loss: 0.9968, Acc: 0.6482, Val Loss: 0.7806, Val Acc: 0.7253, LR: 0.000100\n",
      "💾 New best model saved! Epoch 10, Val Acc: 0.7253\n",
      "Epoch [10/30], Loss: 0.9968, Acc: 0.6482, Val Loss: 0.7806, Val Acc: 0.7253, LR: 0.000100\n",
      "💾 New best model saved! Epoch 10, Val Acc: 0.7253\n",
      "Epoch [11/30], Loss: 0.9831, Acc: 0.6542, Val Loss: 0.7753, Val Acc: 0.7242, LR: 0.000100\n",
      "Epoch [11/30], Loss: 0.9831, Acc: 0.6542, Val Loss: 0.7753, Val Acc: 0.7242, LR: 0.000100\n",
      "Epoch [12/30], Loss: 0.9790, Acc: 0.6559, Val Loss: 0.7714, Val Acc: 0.7259, LR: 0.000100\n",
      "💾 New best model saved! Epoch 12, Val Acc: 0.7259\n",
      "Epoch [12/30], Loss: 0.9790, Acc: 0.6559, Val Loss: 0.7714, Val Acc: 0.7259, LR: 0.000100\n",
      "💾 New best model saved! Epoch 12, Val Acc: 0.7259\n",
      "Epoch [13/30], Loss: 0.9743, Acc: 0.6586, Val Loss: 0.7643, Val Acc: 0.7283, LR: 0.000100\n",
      "💾 New best model saved! Epoch 13, Val Acc: 0.7283\n",
      "Epoch [13/30], Loss: 0.9743, Acc: 0.6586, Val Loss: 0.7643, Val Acc: 0.7283, LR: 0.000100\n",
      "💾 New best model saved! Epoch 13, Val Acc: 0.7283\n",
      "Epoch [14/30], Loss: 0.9657, Acc: 0.6615, Val Loss: 0.7630, Val Acc: 0.7303, LR: 0.000010\n",
      "💾 New best model saved! Epoch 14, Val Acc: 0.7303\n",
      "Epoch [14/30], Loss: 0.9657, Acc: 0.6615, Val Loss: 0.7630, Val Acc: 0.7303, LR: 0.000010\n",
      "💾 New best model saved! Epoch 14, Val Acc: 0.7303\n",
      "Epoch [15/30], Loss: 0.9524, Acc: 0.6625, Val Loss: 0.7597, Val Acc: 0.7317, LR: 0.000010\n",
      "💾 New best model saved! Epoch 15, Val Acc: 0.7317\n",
      "Epoch [15/30], Loss: 0.9524, Acc: 0.6625, Val Loss: 0.7597, Val Acc: 0.7317, LR: 0.000010\n",
      "💾 New best model saved! Epoch 15, Val Acc: 0.7317\n",
      "Epoch [16/30], Loss: 0.9496, Acc: 0.6650, Val Loss: 0.7546, Val Acc: 0.7342, LR: 0.000010\n",
      "💾 New best model saved! Epoch 16, Val Acc: 0.7342\n",
      "Epoch [16/30], Loss: 0.9496, Acc: 0.6650, Val Loss: 0.7546, Val Acc: 0.7342, LR: 0.000010\n",
      "💾 New best model saved! Epoch 16, Val Acc: 0.7342\n",
      "Epoch [17/30], Loss: 0.9516, Acc: 0.6629, Val Loss: 0.7566, Val Acc: 0.7322, LR: 0.000010\n",
      "Epoch [17/30], Loss: 0.9516, Acc: 0.6629, Val Loss: 0.7566, Val Acc: 0.7322, LR: 0.000010\n",
      "Epoch [18/30], Loss: 0.9513, Acc: 0.6632, Val Loss: 0.7521, Val Acc: 0.7346, LR: 0.000010\n",
      "💾 New best model saved! Epoch 18, Val Acc: 0.7346\n",
      "Epoch [18/30], Loss: 0.9513, Acc: 0.6632, Val Loss: 0.7521, Val Acc: 0.7346, LR: 0.000010\n",
      "💾 New best model saved! Epoch 18, Val Acc: 0.7346\n",
      "Epoch [19/30], Loss: 0.9484, Acc: 0.6680, Val Loss: 0.7521, Val Acc: 0.7345, LR: 0.000010\n",
      "Epoch [19/30], Loss: 0.9484, Acc: 0.6680, Val Loss: 0.7521, Val Acc: 0.7345, LR: 0.000010\n",
      "Epoch [20/30], Loss: 0.9493, Acc: 0.6640, Val Loss: 0.7569, Val Acc: 0.7322, LR: 0.000010\n",
      "Epoch [20/30], Loss: 0.9493, Acc: 0.6640, Val Loss: 0.7569, Val Acc: 0.7322, LR: 0.000010\n",
      "Epoch [21/30], Loss: 0.9428, Acc: 0.6661, Val Loss: 0.7521, Val Acc: 0.7331, LR: 0.000001\n",
      "Epoch [21/30], Loss: 0.9428, Acc: 0.6661, Val Loss: 0.7521, Val Acc: 0.7331, LR: 0.000001\n",
      "Epoch [22/30], Loss: 0.9458, Acc: 0.6670, Val Loss: 0.7523, Val Acc: 0.7351, LR: 0.000001\n",
      "💾 New best model saved! Epoch 22, Val Acc: 0.7351\n",
      "Epoch [22/30], Loss: 0.9458, Acc: 0.6670, Val Loss: 0.7523, Val Acc: 0.7351, LR: 0.000001\n",
      "💾 New best model saved! Epoch 22, Val Acc: 0.7351\n",
      "Epoch [23/30], Loss: 0.9374, Acc: 0.6693, Val Loss: 0.7544, Val Acc: 0.7322, LR: 0.000001\n",
      "🛑 Early stopping triggered after 23 epochs\n",
      "Best validation loss: 0.7521\n",
      "\n",
      "Training completed!\n",
      "Best model from epoch 22\n",
      "Best validation accuracy: 0.7351\n",
      "Best validation loss: 0.7523\n",
      "✅ Loaded best model from epoch 22\n",
      "Best validation accuracy: 0.7351\n",
      "Best validation loss: 0.7523\n",
      "Epoch [23/30], Loss: 0.9374, Acc: 0.6693, Val Loss: 0.7544, Val Acc: 0.7322, LR: 0.000001\n",
      "🛑 Early stopping triggered after 23 epochs\n",
      "Best validation loss: 0.7521\n",
      "\n",
      "Training completed!\n",
      "Best model from epoch 22\n",
      "Best validation accuracy: 0.7351\n",
      "Best validation loss: 0.7523\n",
      "✅ Loaded best model from epoch 22\n",
      "Best validation accuracy: 0.7351\n",
      "Best validation loss: 0.7523\n"
     ]
    }
   ],
   "source": [
    "# TRAINING EXECUTION - Set up data loaders and train the model\n",
    "\n",
    "# Create DataLoaders for training and validation\n",
    "# DataLoader handles batching, shuffling, and loading data efficiently\n",
    "train_loader = DataLoader(trainset, batch_size=64, shuffle=True)   # Training: shuffle for better learning\n",
    "val_loader = DataLoader(testset, batch_size=64, shuffle=False)     # Validation: no shuffle needed\n",
    "\n",
    "# Print dataset information for transparency and debugging\n",
    "print(f\"Training samples: {len(trainset):,}\")        # Total number of training images\n",
    "print(f\"Validation samples: {len(testset):,}\")       # Total number of validation images  \n",
    "print(f\"Batch size: 64\")                             # How many images processed at once\n",
    "print(f\"Training batches: {len(train_loader)}\")      # Number of batches in training set\n",
    "print(f\"Validation batches: {len(val_loader)}\")      # Number of batches in validation set\n",
    "\n",
    "# Execute the training process\n",
    "# This calls the train() function defined earlier with all necessary parameters\n",
    "history = train(\n",
    "    model,                    # The CNN model we defined and initialized\n",
    "    train_loader=train_loader,    # DataLoader for training data\n",
    "    val_loader=val_loader,        # DataLoader for validation data\n",
    "    criterion=criterion,          # Loss function (CrossEntropyLoss)\n",
    "    optimizer=optimizer,          # Optimization algorithm (Adam)\n",
    "    scheduler=scheduler,          # Learning rate scheduler (StepLR)\n",
    "    epochs=30,                   # Maximum number of training epochs\n",
    "    patience=5                   # Early stopping patience (stop if no improvement for 5 epochs)\n",
    ")\n",
    "\n",
    "# Load the best model that was automatically saved during training\n",
    "# The train() function saves the model with highest validation accuracy\n",
    "best_model, _ = load_best_model('best_model_cifar10.pth')\n",
    "\n",
    "# At this point:\n",
    "# - 'history' contains training metrics (loss, accuracy) for each epoch\n",
    "# - 'best_model' contains the model weights from the epoch with best validation accuracy\n",
    "# - The model is ready for evaluation and deployment"
   ]
  },
  {
   "cell_type": "code",
   "execution_count": 13,
   "id": "b47e87d0",
   "metadata": {},
   "outputs": [],
   "source": [
    "# Download reference/pre-trained model for comparison\n",
    "\n",
    "url=\"https://full-stack-assets.s3.eu-west-3.amazonaws.com/M08-deep-learning/model_stride.pth\"\n",
    "output_path=\"model_stride.pth\"\n",
    "\n",
    "# Download the reference model (only if not already present)\n",
    "if not os.path.exists(output_path):\n",
    "    response = requests.get(url, stream=True)\n",
    "    with open(output_path, \"wb\") as file:\n",
    "        for chunk in response.iter_content(chunk_size=1024):\n",
    "            if chunk:\n",
    "                file.write(chunk)\n",
    "    print(\"Download complete.\")"
   ]
  },
  {
   "cell_type": "code",
   "execution_count": 14,
   "id": "5a74e52e",
   "metadata": {},
   "outputs": [
    {
     "name": "stdout",
     "output_type": "stream",
     "text": [
      "Reference model loaded successfully!\n",
      "Reference model FC1 input features: 128\n"
     ]
    }
   ],
   "source": [
    "# Load the reference model for comparison\n",
    "\n",
    "\n",
    "ckpt = torch.load(\"model_stride.pth\", map_location=\"cpu\")\n",
    "# Use the correct key for the fully connected layer (fc1 or fc2)\n",
    "in_features = ckpt[\"model_state_dict\"][\"fc1.weight\"].shape[1]  # -> 2048 or similar\n",
    "\n",
    "# Create reference model with correct architecture\n",
    "restored_model = CNN()\n",
    "restored_model.fc1 = nn.Linear(in_features, 512)  # match architecture\n",
    "restored_model.fc2 = nn.Linear(512, 10)           # match architecture\n",
    "restored_model.load_state_dict(ckpt[\"model_state_dict\"])\n",
    "restored_model.eval()\n",
    "\n",
    "print(f\"Reference model loaded successfully!\")\n",
    "print(f\"Reference model FC1 input features: {in_features}\")"
   ]
  },
  {
   "cell_type": "code",
   "execution_count": 15,
   "id": "82f32ce1",
   "metadata": {},
   "outputs": [
    {
     "name": "stdout",
     "output_type": "stream",
     "text": [
      "=== MODEL COMPARISON ===\n",
      "Your model parameters: 359,082\n",
      "Reference model parameters: 359,082\n",
      "Your model output shape: torch.Size([1, 10])\n",
      "Reference model output shape: torch.Size([1, 10])\n"
     ]
    }
   ],
   "source": [
    "# Compare my trained model with the reference model\n",
    "print(\"=== MODEL COMPARISON ===\")\n",
    "print(f\"Your model parameters: {sum(p.numel() for p in model.parameters()):,}\")\n",
    "print(f\"Reference model parameters: {sum(p.numel() for p in restored_model.parameters()):,}\")\n",
    "\n",
    "# Test both models on a sample\n",
    "with torch.no_grad():\n",
    "    sample_input = torch.randn(1, 3, 32, 32)\n",
    "    your_output = model(sample_input)\n",
    "    ref_output = restored_model(sample_input)\n",
    "    \n",
    "    print(f\"Your model output shape: {your_output.shape}\")\n",
    "    print(f\"Reference model output shape: {ref_output.shape}\")"
   ]
  },
  {
   "cell_type": "code",
   "execution_count": null,
   "id": "0d5ea941",
   "metadata": {},
   "outputs": [],
   "source": [
    "# CREATE COMPREHENSIVE MODEL COMPARISON TABLE\n",
    "# This provides a clear side-by-side comparison of both models\n",
    "\n",
    "# Create comparison data dictionary with model metrics\n",
    "comparison_data = {\n",
    "    'Model': ['Custom CNN', 'MobileNetV2'],\n",
    "    'Parameters': [f\"{sum(p.numel() for p in model.parameters()):,}\", \n",
    "                   f\"{sum(p.numel() for p in mobilenet_v2.parameters()):,}\"],\n",
    "    'Accuracy': ['To be filled after training', 'To be filled after training'],  # Fill with actual values after training\n",
    "    'Architecture': ['6-layer CNN with BatchNorm + Dropout', 'Pre-trained MobileNetV2 (frozen features)'],\n",
    "    'Input Size': ['32x32', '224x224 (resized)'],\n",
    "    'Training Strategy': ['From scratch', 'Transfer learning']\n",
    "}\n",
    "\n",
    "# Create and display the comparison table\n",
    "df = pd.DataFrame(comparison_data)\n",
    "print(\"=\"*70)\n",
    "print(\"                    MODEL COMPARISON SUMMARY\")\n",
    "print(\"=\"*70)\n",
    "print(df.to_string(index=False))\n",
    "print(\"=\"*70)\n",
    "\n",
    "# Display parameter difference\n",
    "custom_params = sum(p.numel() for p in model.parameters())\n",
    "mobilenet_params = sum(p.numel() for p in mobilenet_v2.parameters())\n",
    "param_ratio = mobilenet_params / custom_params\n",
    "\n",
    "print(f\"\\nParameter Analysis:\")\n",
    "print(f\"• MobileNetV2 has {param_ratio:.1f}x more parameters than Custom CNN\")\n",
    "print(f\"• Custom CNN: {custom_params:,} parameters\")\n",
    "print(f\"• MobileNetV2: {mobilenet_params:,} parameters\")"
   ]
  },
  {
   "cell_type": "code",
   "execution_count": null,
   "id": "d35a353a",
   "metadata": {},
   "outputs": [
    {
     "data": {
      "application/vnd.plotly.v1+json": {
       "config": {
        "plotlyServerURL": "https://plot.ly"
       },
       "data": [
        {
         "marker": {
          "color": "#4B9AC7"
         },
         "mode": "lines",
         "name": "Training loss",
         "type": "scatter",
         "y": [
          1.6515597178198187,
          1.4141799517909583,
          1.306474925307057,
          1.2442186834562161,
          1.197204918812608,
          1.1517427906660778,
          1.1205082279641916,
          1.0290910384386702,
          1.0060407634433883,
          0.996773856222782,
          0.9830535658637581,
          0.9790328069568595,
          0.9743297420194387,
          0.9657411425162459,
          0.9524461258097988,
          0.9496316699039601,
          0.951577852372928,
          0.9512839385158266,
          0.9484380099474622,
          0.9492516132724255,
          0.9427748807250996,
          0.945831326420045,
          0.9373808631964047
         ]
        },
        {
         "marker": {
          "color": "#4BE8E0"
         },
         "mode": "lines",
         "name": "Validation loss",
         "type": "scatter",
         "y": [
          1.3036983726890223,
          1.1548008668194911,
          1.0997088103537347,
          0.9975559863315266,
          0.9483266886632153,
          0.9024945083697131,
          0.9398042309056421,
          0.8121567981637967,
          0.7931309196220082,
          0.7805782256612352,
          0.775288804321532,
          0.771438517957736,
          0.7642858987021598,
          0.7630425777025284,
          0.7597320239255383,
          0.7546040436644463,
          0.756578523452115,
          0.7520579893118257,
          0.7521041229272344,
          0.7569170673941351,
          0.7521344818127383,
          0.7523473394904167,
          0.7543538459547007
         ]
        }
       ],
       "layout": {
        "template": {
         "data": {
          "bar": [
           {
            "error_x": {
             "color": "#2a3f5f"
            },
            "error_y": {
             "color": "#2a3f5f"
            },
            "marker": {
             "line": {
              "color": "#E5ECF6",
              "width": 0.5
             },
             "pattern": {
              "fillmode": "overlay",
              "size": 10,
              "solidity": 0.2
             }
            },
            "type": "bar"
           }
          ],
          "barpolar": [
           {
            "marker": {
             "line": {
              "color": "#E5ECF6",
              "width": 0.5
             },
             "pattern": {
              "fillmode": "overlay",
              "size": 10,
              "solidity": 0.2
             }
            },
            "type": "barpolar"
           }
          ],
          "carpet": [
           {
            "aaxis": {
             "endlinecolor": "#2a3f5f",
             "gridcolor": "white",
             "linecolor": "white",
             "minorgridcolor": "white",
             "startlinecolor": "#2a3f5f"
            },
            "baxis": {
             "endlinecolor": "#2a3f5f",
             "gridcolor": "white",
             "linecolor": "white",
             "minorgridcolor": "white",
             "startlinecolor": "#2a3f5f"
            },
            "type": "carpet"
           }
          ],
          "choropleth": [
           {
            "colorbar": {
             "outlinewidth": 0,
             "ticks": ""
            },
            "type": "choropleth"
           }
          ],
          "contour": [
           {
            "colorbar": {
             "outlinewidth": 0,
             "ticks": ""
            },
            "colorscale": [
             [
              0,
              "#0d0887"
             ],
             [
              0.1111111111111111,
              "#46039f"
             ],
             [
              0.2222222222222222,
              "#7201a8"
             ],
             [
              0.3333333333333333,
              "#9c179e"
             ],
             [
              0.4444444444444444,
              "#bd3786"
             ],
             [
              0.5555555555555556,
              "#d8576b"
             ],
             [
              0.6666666666666666,
              "#ed7953"
             ],
             [
              0.7777777777777778,
              "#fb9f3a"
             ],
             [
              0.8888888888888888,
              "#fdca26"
             ],
             [
              1,
              "#f0f921"
             ]
            ],
            "type": "contour"
           }
          ],
          "contourcarpet": [
           {
            "colorbar": {
             "outlinewidth": 0,
             "ticks": ""
            },
            "type": "contourcarpet"
           }
          ],
          "heatmap": [
           {
            "colorbar": {
             "outlinewidth": 0,
             "ticks": ""
            },
            "colorscale": [
             [
              0,
              "#0d0887"
             ],
             [
              0.1111111111111111,
              "#46039f"
             ],
             [
              0.2222222222222222,
              "#7201a8"
             ],
             [
              0.3333333333333333,
              "#9c179e"
             ],
             [
              0.4444444444444444,
              "#bd3786"
             ],
             [
              0.5555555555555556,
              "#d8576b"
             ],
             [
              0.6666666666666666,
              "#ed7953"
             ],
             [
              0.7777777777777778,
              "#fb9f3a"
             ],
             [
              0.8888888888888888,
              "#fdca26"
             ],
             [
              1,
              "#f0f921"
             ]
            ],
            "type": "heatmap"
           }
          ],
          "histogram": [
           {
            "marker": {
             "pattern": {
              "fillmode": "overlay",
              "size": 10,
              "solidity": 0.2
             }
            },
            "type": "histogram"
           }
          ],
          "histogram2d": [
           {
            "colorbar": {
             "outlinewidth": 0,
             "ticks": ""
            },
            "colorscale": [
             [
              0,
              "#0d0887"
             ],
             [
              0.1111111111111111,
              "#46039f"
             ],
             [
              0.2222222222222222,
              "#7201a8"
             ],
             [
              0.3333333333333333,
              "#9c179e"
             ],
             [
              0.4444444444444444,
              "#bd3786"
             ],
             [
              0.5555555555555556,
              "#d8576b"
             ],
             [
              0.6666666666666666,
              "#ed7953"
             ],
             [
              0.7777777777777778,
              "#fb9f3a"
             ],
             [
              0.8888888888888888,
              "#fdca26"
             ],
             [
              1,
              "#f0f921"
             ]
            ],
            "type": "histogram2d"
           }
          ],
          "histogram2dcontour": [
           {
            "colorbar": {
             "outlinewidth": 0,
             "ticks": ""
            },
            "colorscale": [
             [
              0,
              "#0d0887"
             ],
             [
              0.1111111111111111,
              "#46039f"
             ],
             [
              0.2222222222222222,
              "#7201a8"
             ],
             [
              0.3333333333333333,
              "#9c179e"
             ],
             [
              0.4444444444444444,
              "#bd3786"
             ],
             [
              0.5555555555555556,
              "#d8576b"
             ],
             [
              0.6666666666666666,
              "#ed7953"
             ],
             [
              0.7777777777777778,
              "#fb9f3a"
             ],
             [
              0.8888888888888888,
              "#fdca26"
             ],
             [
              1,
              "#f0f921"
             ]
            ],
            "type": "histogram2dcontour"
           }
          ],
          "mesh3d": [
           {
            "colorbar": {
             "outlinewidth": 0,
             "ticks": ""
            },
            "type": "mesh3d"
           }
          ],
          "parcoords": [
           {
            "line": {
             "colorbar": {
              "outlinewidth": 0,
              "ticks": ""
             }
            },
            "type": "parcoords"
           }
          ],
          "pie": [
           {
            "automargin": true,
            "type": "pie"
           }
          ],
          "scatter": [
           {
            "fillpattern": {
             "fillmode": "overlay",
             "size": 10,
             "solidity": 0.2
            },
            "type": "scatter"
           }
          ],
          "scatter3d": [
           {
            "line": {
             "colorbar": {
              "outlinewidth": 0,
              "ticks": ""
             }
            },
            "marker": {
             "colorbar": {
              "outlinewidth": 0,
              "ticks": ""
             }
            },
            "type": "scatter3d"
           }
          ],
          "scattercarpet": [
           {
            "marker": {
             "colorbar": {
              "outlinewidth": 0,
              "ticks": ""
             }
            },
            "type": "scattercarpet"
           }
          ],
          "scattergeo": [
           {
            "marker": {
             "colorbar": {
              "outlinewidth": 0,
              "ticks": ""
             }
            },
            "type": "scattergeo"
           }
          ],
          "scattergl": [
           {
            "marker": {
             "colorbar": {
              "outlinewidth": 0,
              "ticks": ""
             }
            },
            "type": "scattergl"
           }
          ],
          "scattermap": [
           {
            "marker": {
             "colorbar": {
              "outlinewidth": 0,
              "ticks": ""
             }
            },
            "type": "scattermap"
           }
          ],
          "scattermapbox": [
           {
            "marker": {
             "colorbar": {
              "outlinewidth": 0,
              "ticks": ""
             }
            },
            "type": "scattermapbox"
           }
          ],
          "scatterpolar": [
           {
            "marker": {
             "colorbar": {
              "outlinewidth": 0,
              "ticks": ""
             }
            },
            "type": "scatterpolar"
           }
          ],
          "scatterpolargl": [
           {
            "marker": {
             "colorbar": {
              "outlinewidth": 0,
              "ticks": ""
             }
            },
            "type": "scatterpolargl"
           }
          ],
          "scatterternary": [
           {
            "marker": {
             "colorbar": {
              "outlinewidth": 0,
              "ticks": ""
             }
            },
            "type": "scatterternary"
           }
          ],
          "surface": [
           {
            "colorbar": {
             "outlinewidth": 0,
             "ticks": ""
            },
            "colorscale": [
             [
              0,
              "#0d0887"
             ],
             [
              0.1111111111111111,
              "#46039f"
             ],
             [
              0.2222222222222222,
              "#7201a8"
             ],
             [
              0.3333333333333333,
              "#9c179e"
             ],
             [
              0.4444444444444444,
              "#bd3786"
             ],
             [
              0.5555555555555556,
              "#d8576b"
             ],
             [
              0.6666666666666666,
              "#ed7953"
             ],
             [
              0.7777777777777778,
              "#fb9f3a"
             ],
             [
              0.8888888888888888,
              "#fdca26"
             ],
             [
              1,
              "#f0f921"
             ]
            ],
            "type": "surface"
           }
          ],
          "table": [
           {
            "cells": {
             "fill": {
              "color": "#EBF0F8"
             },
             "line": {
              "color": "white"
             }
            },
            "header": {
             "fill": {
              "color": "#C8D4E3"
             },
             "line": {
              "color": "white"
             }
            },
            "type": "table"
           }
          ]
         },
         "layout": {
          "annotationdefaults": {
           "arrowcolor": "#2a3f5f",
           "arrowhead": 0,
           "arrowwidth": 1
          },
          "autotypenumbers": "strict",
          "coloraxis": {
           "colorbar": {
            "outlinewidth": 0,
            "ticks": ""
           }
          },
          "colorscale": {
           "diverging": [
            [
             0,
             "#8e0152"
            ],
            [
             0.1,
             "#c51b7d"
            ],
            [
             0.2,
             "#de77ae"
            ],
            [
             0.3,
             "#f1b6da"
            ],
            [
             0.4,
             "#fde0ef"
            ],
            [
             0.5,
             "#f7f7f7"
            ],
            [
             0.6,
             "#e6f5d0"
            ],
            [
             0.7,
             "#b8e186"
            ],
            [
             0.8,
             "#7fbc41"
            ],
            [
             0.9,
             "#4d9221"
            ],
            [
             1,
             "#276419"
            ]
           ],
           "sequential": [
            [
             0,
             "#0d0887"
            ],
            [
             0.1111111111111111,
             "#46039f"
            ],
            [
             0.2222222222222222,
             "#7201a8"
            ],
            [
             0.3333333333333333,
             "#9c179e"
            ],
            [
             0.4444444444444444,
             "#bd3786"
            ],
            [
             0.5555555555555556,
             "#d8576b"
            ],
            [
             0.6666666666666666,
             "#ed7953"
            ],
            [
             0.7777777777777778,
             "#fb9f3a"
            ],
            [
             0.8888888888888888,
             "#fdca26"
            ],
            [
             1,
             "#f0f921"
            ]
           ],
           "sequentialminus": [
            [
             0,
             "#0d0887"
            ],
            [
             0.1111111111111111,
             "#46039f"
            ],
            [
             0.2222222222222222,
             "#7201a8"
            ],
            [
             0.3333333333333333,
             "#9c179e"
            ],
            [
             0.4444444444444444,
             "#bd3786"
            ],
            [
             0.5555555555555556,
             "#d8576b"
            ],
            [
             0.6666666666666666,
             "#ed7953"
            ],
            [
             0.7777777777777778,
             "#fb9f3a"
            ],
            [
             0.8888888888888888,
             "#fdca26"
            ],
            [
             1,
             "#f0f921"
            ]
           ]
          },
          "colorway": [
           "#636efa",
           "#EF553B",
           "#00cc96",
           "#ab63fa",
           "#FFA15A",
           "#19d3f3",
           "#FF6692",
           "#B6E880",
           "#FF97FF",
           "#FECB52"
          ],
          "font": {
           "color": "#2a3f5f"
          },
          "geo": {
           "bgcolor": "white",
           "lakecolor": "white",
           "landcolor": "#E5ECF6",
           "showlakes": true,
           "showland": true,
           "subunitcolor": "white"
          },
          "hoverlabel": {
           "align": "left"
          },
          "hovermode": "closest",
          "mapbox": {
           "style": "light"
          },
          "paper_bgcolor": "white",
          "plot_bgcolor": "#E5ECF6",
          "polar": {
           "angularaxis": {
            "gridcolor": "white",
            "linecolor": "white",
            "ticks": ""
           },
           "bgcolor": "#E5ECF6",
           "radialaxis": {
            "gridcolor": "white",
            "linecolor": "white",
            "ticks": ""
           }
          },
          "scene": {
           "xaxis": {
            "backgroundcolor": "#E5ECF6",
            "gridcolor": "white",
            "gridwidth": 2,
            "linecolor": "white",
            "showbackground": true,
            "ticks": "",
            "zerolinecolor": "white"
           },
           "yaxis": {
            "backgroundcolor": "#E5ECF6",
            "gridcolor": "white",
            "gridwidth": 2,
            "linecolor": "white",
            "showbackground": true,
            "ticks": "",
            "zerolinecolor": "white"
           },
           "zaxis": {
            "backgroundcolor": "#E5ECF6",
            "gridcolor": "white",
            "gridwidth": 2,
            "linecolor": "white",
            "showbackground": true,
            "ticks": "",
            "zerolinecolor": "white"
           }
          },
          "shapedefaults": {
           "line": {
            "color": "#2a3f5f"
           }
          },
          "ternary": {
           "aaxis": {
            "gridcolor": "white",
            "linecolor": "white",
            "ticks": ""
           },
           "baxis": {
            "gridcolor": "white",
            "linecolor": "white",
            "ticks": ""
           },
           "bgcolor": "#E5ECF6",
           "caxis": {
            "gridcolor": "white",
            "linecolor": "white",
            "ticks": ""
           }
          },
          "title": {
           "x": 0.05
          },
          "xaxis": {
           "automargin": true,
           "gridcolor": "white",
           "linecolor": "white",
           "ticks": "",
           "title": {
            "standoff": 15
           },
           "zerolinecolor": "white",
           "zerolinewidth": 2
          },
          "yaxis": {
           "automargin": true,
           "gridcolor": "white",
           "linecolor": "white",
           "ticks": "",
           "title": {
            "standoff": 15
           },
           "zerolinecolor": "white",
           "zerolinewidth": 2
          }
         }
        },
        "title": {
         "text": "Training and val loss across epochs"
        },
        "xaxis": {
         "title": {
          "text": "epochs"
         }
        },
        "yaxis": {
         "title": {
          "text": "Cross Entropy"
         }
        }
       }
      }
     },
     "metadata": {},
     "output_type": "display_data"
    }
   ],
   "source": [
    "# VISUALIZE TRAINING AND VALIDATION LOSS\n",
    "\n",
    "# Define color palette for consistent, professional visualization\n",
    "color_chart = [\"#4B9AC7\", \"#4BE8E0\", \"#9DD4F3\", \"#97FBF6\", \"#2A7FAF\", \"#23B1AB\", \"#0E3449\", \"#015955\"]\n",
    "\n",
    "# Create interactive line plot using Plotly\n",
    "fig = go.Figure(data=[\n",
    "                      go.Scatter(\n",
    "                          y=history[\"loss\"],           # Training loss values from history\n",
    "                          name=\"Training loss\",\n",
    "                          mode=\"lines\",\n",
    "                          marker=dict(\n",
    "                              color=color_chart[0]      # Blue color for training\n",
    "                          )),\n",
    "                      go.Scatter(\n",
    "                          y=history[\"val_loss\"],       # Validation loss values from history\n",
    "                          name=\"Validation loss\",\n",
    "                          mode=\"lines\",\n",
    "                          marker=dict(\n",
    "                              color=color_chart[1]      # Teal color for validation\n",
    "                          ))\n",
    "])\n",
    "\n",
    "# Configure plot layout and labels\n",
    "fig.update_layout(\n",
    "    title='Training and val loss across epochs',\n",
    "    xaxis_title='epochs',\n",
    "    yaxis_title='Cross Entropy'    \n",
    ")\n",
    "fig.show()"
   ]
  },
  {
   "cell_type": "code",
   "execution_count": null,
   "id": "61374745",
   "metadata": {},
   "outputs": [
    {
     "data": {
      "application/vnd.plotly.v1+json": {
       "config": {
        "plotlyServerURL": "https://plot.ly"
       },
       "data": [
        {
         "marker": {
          "color": "#4B9AC7"
         },
         "mode": "lines",
         "name": "Training accuracy",
         "type": "scatter",
         "y": [
          0.38608,
          0.48646,
          0.53038,
          0.55758,
          0.57516,
          0.59388,
          0.6068,
          0.63548,
          0.64608,
          0.64822,
          0.65424,
          0.65592,
          0.65864,
          0.66154,
          0.66252,
          0.66502,
          0.66294,
          0.66322,
          0.668,
          0.66402,
          0.66606,
          0.667,
          0.6693
         ]
        },
        {
         "marker": {
          "color": "#4BE8E0"
         },
         "mode": "lines",
         "name": "Validation accuracy",
         "type": "scatter",
         "y": [
          0.5236,
          0.5795,
          0.5995,
          0.6372,
          0.6645,
          0.6811,
          0.6668,
          0.7125,
          0.7166,
          0.7253,
          0.7242,
          0.7259,
          0.7283,
          0.7303,
          0.7317,
          0.7342,
          0.7322,
          0.7346,
          0.7345,
          0.7322,
          0.7331,
          0.7351,
          0.7322
         ]
        }
       ],
       "layout": {
        "template": {
         "data": {
          "bar": [
           {
            "error_x": {
             "color": "#2a3f5f"
            },
            "error_y": {
             "color": "#2a3f5f"
            },
            "marker": {
             "line": {
              "color": "#E5ECF6",
              "width": 0.5
             },
             "pattern": {
              "fillmode": "overlay",
              "size": 10,
              "solidity": 0.2
             }
            },
            "type": "bar"
           }
          ],
          "barpolar": [
           {
            "marker": {
             "line": {
              "color": "#E5ECF6",
              "width": 0.5
             },
             "pattern": {
              "fillmode": "overlay",
              "size": 10,
              "solidity": 0.2
             }
            },
            "type": "barpolar"
           }
          ],
          "carpet": [
           {
            "aaxis": {
             "endlinecolor": "#2a3f5f",
             "gridcolor": "white",
             "linecolor": "white",
             "minorgridcolor": "white",
             "startlinecolor": "#2a3f5f"
            },
            "baxis": {
             "endlinecolor": "#2a3f5f",
             "gridcolor": "white",
             "linecolor": "white",
             "minorgridcolor": "white",
             "startlinecolor": "#2a3f5f"
            },
            "type": "carpet"
           }
          ],
          "choropleth": [
           {
            "colorbar": {
             "outlinewidth": 0,
             "ticks": ""
            },
            "type": "choropleth"
           }
          ],
          "contour": [
           {
            "colorbar": {
             "outlinewidth": 0,
             "ticks": ""
            },
            "colorscale": [
             [
              0,
              "#0d0887"
             ],
             [
              0.1111111111111111,
              "#46039f"
             ],
             [
              0.2222222222222222,
              "#7201a8"
             ],
             [
              0.3333333333333333,
              "#9c179e"
             ],
             [
              0.4444444444444444,
              "#bd3786"
             ],
             [
              0.5555555555555556,
              "#d8576b"
             ],
             [
              0.6666666666666666,
              "#ed7953"
             ],
             [
              0.7777777777777778,
              "#fb9f3a"
             ],
             [
              0.8888888888888888,
              "#fdca26"
             ],
             [
              1,
              "#f0f921"
             ]
            ],
            "type": "contour"
           }
          ],
          "contourcarpet": [
           {
            "colorbar": {
             "outlinewidth": 0,
             "ticks": ""
            },
            "type": "contourcarpet"
           }
          ],
          "heatmap": [
           {
            "colorbar": {
             "outlinewidth": 0,
             "ticks": ""
            },
            "colorscale": [
             [
              0,
              "#0d0887"
             ],
             [
              0.1111111111111111,
              "#46039f"
             ],
             [
              0.2222222222222222,
              "#7201a8"
             ],
             [
              0.3333333333333333,
              "#9c179e"
             ],
             [
              0.4444444444444444,
              "#bd3786"
             ],
             [
              0.5555555555555556,
              "#d8576b"
             ],
             [
              0.6666666666666666,
              "#ed7953"
             ],
             [
              0.7777777777777778,
              "#fb9f3a"
             ],
             [
              0.8888888888888888,
              "#fdca26"
             ],
             [
              1,
              "#f0f921"
             ]
            ],
            "type": "heatmap"
           }
          ],
          "histogram": [
           {
            "marker": {
             "pattern": {
              "fillmode": "overlay",
              "size": 10,
              "solidity": 0.2
             }
            },
            "type": "histogram"
           }
          ],
          "histogram2d": [
           {
            "colorbar": {
             "outlinewidth": 0,
             "ticks": ""
            },
            "colorscale": [
             [
              0,
              "#0d0887"
             ],
             [
              0.1111111111111111,
              "#46039f"
             ],
             [
              0.2222222222222222,
              "#7201a8"
             ],
             [
              0.3333333333333333,
              "#9c179e"
             ],
             [
              0.4444444444444444,
              "#bd3786"
             ],
             [
              0.5555555555555556,
              "#d8576b"
             ],
             [
              0.6666666666666666,
              "#ed7953"
             ],
             [
              0.7777777777777778,
              "#fb9f3a"
             ],
             [
              0.8888888888888888,
              "#fdca26"
             ],
             [
              1,
              "#f0f921"
             ]
            ],
            "type": "histogram2d"
           }
          ],
          "histogram2dcontour": [
           {
            "colorbar": {
             "outlinewidth": 0,
             "ticks": ""
            },
            "colorscale": [
             [
              0,
              "#0d0887"
             ],
             [
              0.1111111111111111,
              "#46039f"
             ],
             [
              0.2222222222222222,
              "#7201a8"
             ],
             [
              0.3333333333333333,
              "#9c179e"
             ],
             [
              0.4444444444444444,
              "#bd3786"
             ],
             [
              0.5555555555555556,
              "#d8576b"
             ],
             [
              0.6666666666666666,
              "#ed7953"
             ],
             [
              0.7777777777777778,
              "#fb9f3a"
             ],
             [
              0.8888888888888888,
              "#fdca26"
             ],
             [
              1,
              "#f0f921"
             ]
            ],
            "type": "histogram2dcontour"
           }
          ],
          "mesh3d": [
           {
            "colorbar": {
             "outlinewidth": 0,
             "ticks": ""
            },
            "type": "mesh3d"
           }
          ],
          "parcoords": [
           {
            "line": {
             "colorbar": {
              "outlinewidth": 0,
              "ticks": ""
             }
            },
            "type": "parcoords"
           }
          ],
          "pie": [
           {
            "automargin": true,
            "type": "pie"
           }
          ],
          "scatter": [
           {
            "fillpattern": {
             "fillmode": "overlay",
             "size": 10,
             "solidity": 0.2
            },
            "type": "scatter"
           }
          ],
          "scatter3d": [
           {
            "line": {
             "colorbar": {
              "outlinewidth": 0,
              "ticks": ""
             }
            },
            "marker": {
             "colorbar": {
              "outlinewidth": 0,
              "ticks": ""
             }
            },
            "type": "scatter3d"
           }
          ],
          "scattercarpet": [
           {
            "marker": {
             "colorbar": {
              "outlinewidth": 0,
              "ticks": ""
             }
            },
            "type": "scattercarpet"
           }
          ],
          "scattergeo": [
           {
            "marker": {
             "colorbar": {
              "outlinewidth": 0,
              "ticks": ""
             }
            },
            "type": "scattergeo"
           }
          ],
          "scattergl": [
           {
            "marker": {
             "colorbar": {
              "outlinewidth": 0,
              "ticks": ""
             }
            },
            "type": "scattergl"
           }
          ],
          "scattermap": [
           {
            "marker": {
             "colorbar": {
              "outlinewidth": 0,
              "ticks": ""
             }
            },
            "type": "scattermap"
           }
          ],
          "scattermapbox": [
           {
            "marker": {
             "colorbar": {
              "outlinewidth": 0,
              "ticks": ""
             }
            },
            "type": "scattermapbox"
           }
          ],
          "scatterpolar": [
           {
            "marker": {
             "colorbar": {
              "outlinewidth": 0,
              "ticks": ""
             }
            },
            "type": "scatterpolar"
           }
          ],
          "scatterpolargl": [
           {
            "marker": {
             "colorbar": {
              "outlinewidth": 0,
              "ticks": ""
             }
            },
            "type": "scatterpolargl"
           }
          ],
          "scatterternary": [
           {
            "marker": {
             "colorbar": {
              "outlinewidth": 0,
              "ticks": ""
             }
            },
            "type": "scatterternary"
           }
          ],
          "surface": [
           {
            "colorbar": {
             "outlinewidth": 0,
             "ticks": ""
            },
            "colorscale": [
             [
              0,
              "#0d0887"
             ],
             [
              0.1111111111111111,
              "#46039f"
             ],
             [
              0.2222222222222222,
              "#7201a8"
             ],
             [
              0.3333333333333333,
              "#9c179e"
             ],
             [
              0.4444444444444444,
              "#bd3786"
             ],
             [
              0.5555555555555556,
              "#d8576b"
             ],
             [
              0.6666666666666666,
              "#ed7953"
             ],
             [
              0.7777777777777778,
              "#fb9f3a"
             ],
             [
              0.8888888888888888,
              "#fdca26"
             ],
             [
              1,
              "#f0f921"
             ]
            ],
            "type": "surface"
           }
          ],
          "table": [
           {
            "cells": {
             "fill": {
              "color": "#EBF0F8"
             },
             "line": {
              "color": "white"
             }
            },
            "header": {
             "fill": {
              "color": "#C8D4E3"
             },
             "line": {
              "color": "white"
             }
            },
            "type": "table"
           }
          ]
         },
         "layout": {
          "annotationdefaults": {
           "arrowcolor": "#2a3f5f",
           "arrowhead": 0,
           "arrowwidth": 1
          },
          "autotypenumbers": "strict",
          "coloraxis": {
           "colorbar": {
            "outlinewidth": 0,
            "ticks": ""
           }
          },
          "colorscale": {
           "diverging": [
            [
             0,
             "#8e0152"
            ],
            [
             0.1,
             "#c51b7d"
            ],
            [
             0.2,
             "#de77ae"
            ],
            [
             0.3,
             "#f1b6da"
            ],
            [
             0.4,
             "#fde0ef"
            ],
            [
             0.5,
             "#f7f7f7"
            ],
            [
             0.6,
             "#e6f5d0"
            ],
            [
             0.7,
             "#b8e186"
            ],
            [
             0.8,
             "#7fbc41"
            ],
            [
             0.9,
             "#4d9221"
            ],
            [
             1,
             "#276419"
            ]
           ],
           "sequential": [
            [
             0,
             "#0d0887"
            ],
            [
             0.1111111111111111,
             "#46039f"
            ],
            [
             0.2222222222222222,
             "#7201a8"
            ],
            [
             0.3333333333333333,
             "#9c179e"
            ],
            [
             0.4444444444444444,
             "#bd3786"
            ],
            [
             0.5555555555555556,
             "#d8576b"
            ],
            [
             0.6666666666666666,
             "#ed7953"
            ],
            [
             0.7777777777777778,
             "#fb9f3a"
            ],
            [
             0.8888888888888888,
             "#fdca26"
            ],
            [
             1,
             "#f0f921"
            ]
           ],
           "sequentialminus": [
            [
             0,
             "#0d0887"
            ],
            [
             0.1111111111111111,
             "#46039f"
            ],
            [
             0.2222222222222222,
             "#7201a8"
            ],
            [
             0.3333333333333333,
             "#9c179e"
            ],
            [
             0.4444444444444444,
             "#bd3786"
            ],
            [
             0.5555555555555556,
             "#d8576b"
            ],
            [
             0.6666666666666666,
             "#ed7953"
            ],
            [
             0.7777777777777778,
             "#fb9f3a"
            ],
            [
             0.8888888888888888,
             "#fdca26"
            ],
            [
             1,
             "#f0f921"
            ]
           ]
          },
          "colorway": [
           "#636efa",
           "#EF553B",
           "#00cc96",
           "#ab63fa",
           "#FFA15A",
           "#19d3f3",
           "#FF6692",
           "#B6E880",
           "#FF97FF",
           "#FECB52"
          ],
          "font": {
           "color": "#2a3f5f"
          },
          "geo": {
           "bgcolor": "white",
           "lakecolor": "white",
           "landcolor": "#E5ECF6",
           "showlakes": true,
           "showland": true,
           "subunitcolor": "white"
          },
          "hoverlabel": {
           "align": "left"
          },
          "hovermode": "closest",
          "mapbox": {
           "style": "light"
          },
          "paper_bgcolor": "white",
          "plot_bgcolor": "#E5ECF6",
          "polar": {
           "angularaxis": {
            "gridcolor": "white",
            "linecolor": "white",
            "ticks": ""
           },
           "bgcolor": "#E5ECF6",
           "radialaxis": {
            "gridcolor": "white",
            "linecolor": "white",
            "ticks": ""
           }
          },
          "scene": {
           "xaxis": {
            "backgroundcolor": "#E5ECF6",
            "gridcolor": "white",
            "gridwidth": 2,
            "linecolor": "white",
            "showbackground": true,
            "ticks": "",
            "zerolinecolor": "white"
           },
           "yaxis": {
            "backgroundcolor": "#E5ECF6",
            "gridcolor": "white",
            "gridwidth": 2,
            "linecolor": "white",
            "showbackground": true,
            "ticks": "",
            "zerolinecolor": "white"
           },
           "zaxis": {
            "backgroundcolor": "#E5ECF6",
            "gridcolor": "white",
            "gridwidth": 2,
            "linecolor": "white",
            "showbackground": true,
            "ticks": "",
            "zerolinecolor": "white"
           }
          },
          "shapedefaults": {
           "line": {
            "color": "#2a3f5f"
           }
          },
          "ternary": {
           "aaxis": {
            "gridcolor": "white",
            "linecolor": "white",
            "ticks": ""
           },
           "baxis": {
            "gridcolor": "white",
            "linecolor": "white",
            "ticks": ""
           },
           "bgcolor": "#E5ECF6",
           "caxis": {
            "gridcolor": "white",
            "linecolor": "white",
            "ticks": ""
           }
          },
          "title": {
           "x": 0.05
          },
          "xaxis": {
           "automargin": true,
           "gridcolor": "white",
           "linecolor": "white",
           "ticks": "",
           "title": {
            "standoff": 15
           },
           "zerolinecolor": "white",
           "zerolinewidth": 2
          },
          "yaxis": {
           "automargin": true,
           "gridcolor": "white",
           "linecolor": "white",
           "ticks": "",
           "title": {
            "standoff": 15
           },
           "zerolinecolor": "white",
           "zerolinewidth": 2
          }
         }
        },
        "title": {
         "text": "Training and val accuracy across epochs"
        },
        "xaxis": {
         "title": {
          "text": "epochs"
         }
        },
        "yaxis": {
         "title": {
          "text": "Cross Entropy"
         }
        }
       }
      }
     },
     "metadata": {},
     "output_type": "display_data"
    }
   ],
   "source": [
    "# VISUALIZE TRAINING AND VALIDATION ACCURACY\n",
    "\n",
    "# Use same color palette for consistency\n",
    "color_chart = [\"#4B9AC7\", \"#4BE8E0\", \"#9DD4F3\", \"#97FBF6\", \"#2A7FAF\", \"#23B1AB\", \"#0E3449\", \"#015955\"]\n",
    "\n",
    "# Create interactive line plot for accuracy metrics\n",
    "fig = go.Figure(data=[\n",
    "                      go.Scatter(\n",
    "                          y=history[\"accuracy\"],       # Training accuracy values from history\n",
    "                          name=\"Training accuracy\",\n",
    "                          mode=\"lines\",\n",
    "                          marker=dict(\n",
    "                              color=color_chart[0]      # Blue for training\n",
    "                          )),\n",
    "                      go.Scatter(\n",
    "                          y=history[\"val_accuracy\"],   # Validation accuracy values from history\n",
    "                          name=\"Validation accuracy\",\n",
    "                          mode=\"lines\",\n",
    "                          marker=dict(\n",
    "                              color=color_chart[1]      # Teal for validation\n",
    "                          ))\n",
    "])\n",
    "\n",
    "# Configure plot layout and labels\n",
    "fig.update_layout(\n",
    "    title='Training and val accuracy across epochs',\n",
    "    xaxis_title='epochs',\n",
    "    yaxis_title='Cross Entropy'    \n",
    ")\n",
    "fig.show()"
   ]
  },
  {
   "cell_type": "markdown",
   "id": "7fc048b7",
   "metadata": {},
   "source": [
    "THE RESULTS ARE NOT BAD ALREADY."
   ]
  },
  {
   "cell_type": "markdown",
   "id": "3b20e6b2",
   "metadata": {},
   "source": [
    "You can detect **overfitting** or **underfitting** by analyzing your training and validation (test) loss and accuracy curves:\n",
    "\n",
    "---\n",
    "\n",
    "### **Overfitting**\n",
    "- **Training loss** keeps decreasing (model fits training data very well).\n",
    "- **Validation loss** stops decreasing (or starts increasing), and **validation accuracy** plateaus or drops.\n",
    "- **Gap**: There is a large gap between high training accuracy and much lower validation accuracy.\n",
    "\n",
    "**What it means:**  \n",
    "Your model is memorizing the training data but not generalizing to new data.\n",
    "\n",
    "---\n",
    "\n",
    "### **Underfitting**\n",
    "- **Both training and validation loss** are high, and **both accuracies** are low.\n",
    "- The model cannot fit the training data well.\n",
    "\n",
    "**What it means:**  \n",
    "Your model is too simple or not trained enough to capture the patterns in the data.\n",
    "\n",
    "---\n",
    "\n",
    "### **How to Check in Your Project**\n",
    "- Look at the `history[\"loss\"]` (training loss) and `history[\"val_loss\"]` (validation loss) curves.\n",
    "- If you plot them (as you do with Plotly), check for:\n",
    "  - **Overfitting:** Training loss goes down, validation loss goes up or stagnates.\n",
    "  - **Underfitting:** Both losses stay high, and accuracy is low.\n",
    "\n",
    "---\n",
    "\n",
    "**Tip:**  \n",
    "- Overfitting: Try more regularization (dropout, weight decay), or get more data.\n",
    "- Underfitting: Try a more complex model, train longer, or reduce regularization.\n",
    "\n",
    "---\n",
    "\n",
    "**In summary:**  \n",
    "- **Big gap, low val accuracy:** Overfitting  \n",
    "- **Both low accuracy:** Underfitting  \n",
    "- **Both high accuracy, low gap:** Good fit!"
   ]
  },
  {
   "cell_type": "code",
   "execution_count": null,
   "id": "b8b562ca",
   "metadata": {},
   "outputs": [
    {
     "name": "stdout",
     "output_type": "stream",
     "text": [
      "Accuracy: 0.7351\n",
      "Precision: 0.7318\n",
      "Recall: 0.7351\n",
      "F1-score: 0.7323\n"
     ]
    },
    {
     "data": {
      "image/png": "[encoded data removed]",
      "text/plain": [
       "<Figure size 800x600 with 2 Axes>"
      ]
     },
     "metadata": {},
     "output_type": "display_data"
    }
   ],
   "source": [
    "# COMPREHENSIVE MODEL EVALUATION ON TEST SET\n",
    "# This function evaluates the trained model's performance using multiple metrics\n",
    "\n",
    "def test_model_evaluation():\n",
    "    # Prepare DataLoader for test set evaluation\n",
    "    test_loader = DataLoader(testset, batch_size=128, shuffle=False)\n",
    "    device = torch.device(\"cuda\" if torch.cuda.is_available() else \"cpu\")\n",
    "    model = best_model.to(device)\n",
    "    model.eval()  # Set model to evaluation mode (disables dropout, batch norm updates)\n",
    "\n",
    "    # Initialize lists to store all predictions and true labels\n",
    "    all_preds = []\n",
    "    all_labels = []\n",
    "\n",
    "    # Perform inference without gradient computation (saves memory and speeds up evaluation)\n",
    "    with torch.no_grad():\n",
    "        for images, labels in test_loader:\n",
    "            images = images.to(device)\n",
    "            outputs = model(images)  # Forward pass through model\n",
    "            _, preds = torch.max(outputs, 1)  # Get predicted class indices\n",
    "            all_preds.extend(preds.cpu().numpy())  # Store predictions\n",
    "            all_labels.extend(labels.cpu().numpy())  # Store true labels\n",
    "\n",
    "    # Calculate comprehensive evaluation metrics\n",
    "    acc = accuracy_score(all_labels, all_preds)  # Overall accuracy\n",
    "    prec = precision_score(all_labels, all_preds, average='macro')  # Macro-averaged precision\n",
    "    rec = recall_score(all_labels, all_preds, average='macro')  # Macro-averaged recall\n",
    "    f1 = f1_score(all_labels, all_preds, average='macro')  # Macro-averaged F1-score\n",
    "\n",
    "    # Display evaluation results\n",
    "    print(f\"Accuracy: {acc:.4f}\")\n",
    "    print(f\"Precision: {prec:.4f}\")\n",
    "    print(f\"Recall: {rec:.4f}\")\n",
    "    print(f\"F1-score: {f1:.4f}\")\n",
    "\n",
    "    # Generate and visualize confusion matrix to show per-class performance\n",
    "    cm = confusion_matrix(all_labels, all_preds)\n",
    "    plt.figure(figsize=(10, 8))\n",
    "    plt.imshow(cm, interpolation='nearest', cmap=plt.cm.Blues)\n",
    "    plt.title(\"Custom CNN Confusion Matrix\")\n",
    "    \n",
    "    # Add class labels to make the confusion matrix more readable\n",
    "    classes = ['airplane', 'automobile', 'bird', 'cat', 'deer', \n",
    "               'dog', 'frog', 'horse', 'ship', 'truck']\n",
    "    tick_marks = np.arange(len(classes))\n",
    "    plt.xticks(tick_marks, classes, rotation=45)\n",
    "    plt.yticks(tick_marks, classes)\n",
    "    \n",
    "    plt.colorbar()\n",
    "    plt.xlabel(\"Predicted label\")\n",
    "    plt.ylabel(\"True label\")\n",
    "    plt.tight_layout()  # Adjust layout to prevent label cutoff\n",
    "    plt.show()\n",
    "\n",
    "    # Sanity check: ensure model performs better than random guessing (10% for 10 classes)\n",
    "    assert acc > 0.1, \"Model accuracy is not better than random guessing.\"\n",
    "\n",
    "# Execute the evaluation function\n",
    "test_model_evaluation()"
   ]
  },
  {
   "cell_type": "markdown",
   "id": "8aa21433",
   "metadata": {},
   "source": [
    "What is a Confusion Matrix?\n",
    "A confusion matrix is a table that shows how well your model is performing on each class.\n",
    "\n",
    "Rows: Actual (true) classes\n",
    "Columns: Predicted classes\n",
    "Each cell [i, j] shows how many images of class i were predicted as class j.\n",
    "How to Read It\n",
    "Diagonal cells (top-left to bottom-right): Correct predictions for each class. Higher numbers here are good!\n",
    "Off-diagonal cells: Misclassifications. For example, if row 3, column 5 is high, your model often confuses class 3 as class 5.\n",
    "What to Look For\n",
    "Perfect classifier: Only diagonal cells are nonzero.\n",
    "If a row has many non-diagonal values: The model struggles to classify that true class.\n",
    "If a column has many non-diagonal values: The model often predicts that class incorrectly for other true classes (over-predicting).\n",
    "\n",
    "How to Use This\n",
    "Find weaknesses: Which classes are most confused? (e.g., cats vs. dogs)\n",
    "Improve model: Consider more data, augmentation, or architecture changes for confused classes."
   ]
  },
  {
   "cell_type": "markdown",
   "id": "2a6f9b07",
   "metadata": {},
   "source": [
    "Choose a Pre-trained Model\n",
    "\n",
    "Since I am looking for a pre-trained model who is efficient but ligth, I have chosen MobileNetV2. Its architecture reduces computational cost while mainting good accuracy, since it was designed for mobile. It's specifically suitable for image classification tasks of smaller images, as the CIFAR-10 dataset.  \n",
    "Although pre-trained on ImageNet (224×224 images), it transfers well to CIFAR-10. The learned features (edges, textures, patterns) are still relevant despite the size difference.\n",
    "\n",
    "At first, I thought about VGG, but apparently it is outdated and too heavy for this task."
   ]
  },
  {
   "cell_type": "code",
   "execution_count": null,
   "id": "afc03bea",
   "metadata": {},
   "outputs": [
    {
     "name": "stderr",
     "output_type": "stream",
     "text": [
      "/Users/enriqueestevezalvarez/Documents/Ironhack/Projects/CNN projet/.venv/lib/python3.9/site-packages/torchvision/models/_utils.py:208: UserWarning:\n",
      "\n",
      "The parameter 'pretrained' is deprecated since 0.13 and may be removed in the future, please use 'weights' instead.\n",
      "\n",
      "/Users/enriqueestevezalvarez/Documents/Ironhack/Projects/CNN projet/.venv/lib/python3.9/site-packages/torchvision/models/_utils.py:223: UserWarning:\n",
      "\n",
      "Arguments other than a weight enum or `None` for 'weights' are deprecated since 0.13 and may be removed in the future. The current behavior is equivalent to passing `weights=MobileNet_V2_Weights.IMAGENET1K_V1`. You can also use `weights=MobileNet_V2_Weights.DEFAULT` to get the most up-to-date weights.\n",
      "\n"
     ]
    },
    {
     "name": "stdout",
     "output_type": "stream",
     "text": [
      "Epoch [1/1], Loss: 0.8759, Acc: 0.7013, Val Loss: 0.7036, Val Acc: 0.7556, LR: 0.001000\n",
      "💾 New best model saved! Epoch 1, Val Acc: 0.7556\n",
      "\n",
      "Training completed!\n",
      "Best model from epoch 1\n",
      "Best validation accuracy: 0.7556\n",
      "Best validation loss: 0.7036\n",
      "MobileNetV2 Accuracy: 0.7556\n",
      "MobileNetV2 Precision: 0.7683\n",
      "MobileNetV2 Recall: 0.7556\n",
      "MobileNetV2 F1-score: 0.7567\n",
      "MobileNetV2 Accuracy: 0.7556\n",
      "MobileNetV2 Precision: 0.7683\n",
      "MobileNetV2 Recall: 0.7556\n",
      "MobileNetV2 F1-score: 0.7567\n"
     ]
    },
    {
     "data": {
      "image/png": "[encoded data removed]",
      "text/plain": [
       "<Figure size 800x600 with 2 Axes>"
      ]
     },
     "metadata": {},
     "output_type": "display_data"
    }
   ],
   "source": [
    "# Load MobileNetV2 pre-trained on ImageNet\n",
    "mobilenet_v2 = models.mobilenet_v2(pretrained=True)\n",
    "\n",
    "# Freeze all mobilenet_v2 parameters for faster training (optional)\n",
    "## This prevents us from training our entire model. Let us now add the last layer which interests us for our problem\n",
    "for param in mobilenet_v2.parameters():\n",
    "    param.requires_grad = False\n",
    "\n",
    "# Replace the classifier's last layer with the 10 classes for CIFAR-10\n",
    "mobilenet_v2.classifier[1] = nn.Linear(mobilenet_v2.classifier[1].in_features, 10)\n",
    "\n",
    "# Using the existing CIFAR-10 dataset and resizing the images to 224x224.\n",
    "## This model was trained on 224x224 images (the ImageNet dataset), so it expects input images of that size.\n",
    "transform_mobilenet = transforms.Compose([\n",
    "    transforms.Resize((224, 224)),\n",
    "    transforms.ToTensor(),\n",
    "    transforms.Normalize((0.485, 0.456, 0.406), (0.229, 0.224, 0.225)),  # ImageNet stats\n",
    "])\n",
    "\n",
    "# Prepare DataLoaders for MobileNetV2\n",
    "trainset_mobilenet = datasets.CIFAR10(root=str(data_dir), train=True, transform=transform_mobilenet)\n",
    "testset_mobilenet = datasets.CIFAR10(root=str(data_dir), train=False, transform=transform_mobilenet)\n",
    "train_loader_mobilenet = DataLoader(trainset_mobilenet, batch_size=64, shuffle=True)\n",
    "val_loader_mobilenet = DataLoader(testset_mobilenet, batch_size=64, shuffle=False)\n",
    "\n",
    "# Define optimizer for the classifier only: Adam and CrossEntropyLoss, as the model I created\n",
    "optimizer_mobilenet = optim.Adam(mobilenet_v2.classifier[1].parameters(), lr=0.001)\n",
    "criterion_mobilenet = nn.CrossEntropyLoss()\n",
    "\n",
    "# Training loop (same as my train() function, but for MobileNetV2)\n",
    "history_mobilenet = train(\n",
    "    mobilenet_v2,\n",
    "    train_loader=train_loader_mobilenet,\n",
    "    val_loader=val_loader_mobilenet,\n",
    "    criterion=criterion_mobilenet,\n",
    "    optimizer=optimizer_mobilenet,\n",
    "    scheduler=optim.lr_scheduler.StepLR(optimizer_mobilenet, step_size=7, gamma=0.1),\n",
    "    epochs=30,\n",
    "    patience=3\n",
    ")\n",
    "\n",
    "# Evaluate MobileNetV2 on the test set (use my test_model_evaluation function, adapted for MobileNetV2)\n",
    "def evaluate_mobilenet():\n",
    "    mobilenet_v2.eval()\n",
    "    device = torch.device(\"cuda\" if torch.cuda.is_available() else \"cpu\")\n",
    "    mobilenet_v2.to(device)\n",
    "    all_preds, all_labels = [], []\n",
    "    with torch.no_grad():\n",
    "        for images, labels in val_loader_mobilenet:\n",
    "            images = images.to(device)\n",
    "            outputs = mobilenet_v2(images)\n",
    "            _, preds = torch.max(outputs, 1)\n",
    "            all_preds.extend(preds.cpu().numpy())\n",
    "            all_labels.extend(labels.cpu().numpy())\n",
    "    from sklearn.metrics import accuracy_score, precision_score, recall_score, f1_score, confusion_matrix\n",
    "    acc = accuracy_score(all_labels, all_preds)\n",
    "    prec = precision_score(all_labels, all_preds, average='macro')\n",
    "    rec = recall_score(all_labels, all_preds, average='macro')\n",
    "    f1 = f1_score(all_labels, all_preds, average='macro')\n",
    "    print(f\"MobileNetV2 Accuracy: {acc:.4f}\")\n",
    "    print(f\"MobileNetV2 Precision: {prec:.4f}\")\n",
    "    print(f\"MobileNetV2 Recall: {rec:.4f}\")\n",
    "    print(f\"MobileNetV2 F1-score: {f1:.4f}\")\n",
    "\n",
    "    cm = confusion_matrix(all_labels, all_preds)\n",
    "    plt.figure(figsize=(10, 8))\n",
    "    plt.imshow(cm, interpolation='nearest', cmap=plt.cm.Blues)\n",
    "    plt.title(\"MobileNetV2 Confusion Matrix\")\n",
    "    classes = ['airplane', 'automobile', 'bird', 'cat', 'deer', \n",
    "        'dog', 'frog', 'horse', 'ship', 'truck']\n",
    "    tick_marks = np.arange(len(classes))\n",
    "    plt.xticks(tick_marks, classes, rotation=45)\n",
    "    plt.yticks(tick_marks, classes)\n",
    "    plt.colorbar()\n",
    "    plt.xlabel(\"Predicted label\")\n",
    "    plt.ylabel(\"True label\")\n",
    "    plt.show()\n",
    "\n",
    "evaluate_mobilenet()"
   ]
  },
  {
   "cell_type": "code",
   "execution_count": 21,
   "id": "e09cab83",
   "metadata": {},
   "outputs": [
    {
     "name": "stdout",
     "output_type": "stream",
     "text": [
      "MobileNetV2(\n",
      "  (features): Sequential(\n",
      "    (0): Conv2dNormActivation(\n",
      "      (0): Conv2d(3, 32, kernel_size=(3, 3), stride=(2, 2), padding=(1, 1), bias=False)\n",
      "      (1): BatchNorm2d(32, eps=1e-05, momentum=0.1, affine=True, track_running_stats=True)\n",
      "      (2): ReLU6(inplace=True)\n",
      "    )\n",
      "    (1): InvertedResidual(\n",
      "      (conv): Sequential(\n",
      "        (0): Conv2dNormActivation(\n",
      "          (0): Conv2d(32, 32, kernel_size=(3, 3), stride=(1, 1), padding=(1, 1), groups=32, bias=False)\n",
      "          (1): BatchNorm2d(32, eps=1e-05, momentum=0.1, affine=True, track_running_stats=True)\n",
      "          (2): ReLU6(inplace=True)\n",
      "        )\n",
      "        (1): Conv2d(32, 16, kernel_size=(1, 1), stride=(1, 1), bias=False)\n",
      "        (2): BatchNorm2d(16, eps=1e-05, momentum=0.1, affine=True, track_running_stats=True)\n",
      "      )\n",
      "    )\n",
      "    (2): InvertedResidual(\n",
      "      (conv): Sequential(\n",
      "        (0): Conv2dNormActivation(\n",
      "          (0): Conv2d(16, 96, kernel_size=(1, 1), stride=(1, 1), bias=False)\n",
      "          (1): BatchNorm2d(96, eps=1e-05, momentum=0.1, affine=True, track_running_stats=True)\n",
      "          (2): ReLU6(inplace=True)\n",
      "        )\n",
      "        (1): Conv2dNormActivation(\n",
      "          (0): Conv2d(96, 96, kernel_size=(3, 3), stride=(2, 2), padding=(1, 1), groups=96, bias=False)\n",
      "          (1): BatchNorm2d(96, eps=1e-05, momentum=0.1, affine=True, track_running_stats=True)\n",
      "          (2): ReLU6(inplace=True)\n",
      "        )\n",
      "        (2): Conv2d(96, 24, kernel_size=(1, 1), stride=(1, 1), bias=False)\n",
      "        (3): BatchNorm2d(24, eps=1e-05, momentum=0.1, affine=True, track_running_stats=True)\n",
      "      )\n",
      "    )\n",
      "    (3): InvertedResidual(\n",
      "      (conv): Sequential(\n",
      "        (0): Conv2dNormActivation(\n",
      "          (0): Conv2d(24, 144, kernel_size=(1, 1), stride=(1, 1), bias=False)\n",
      "          (1): BatchNorm2d(144, eps=1e-05, momentum=0.1, affine=True, track_running_stats=True)\n",
      "          (2): ReLU6(inplace=True)\n",
      "        )\n",
      "        (1): Conv2dNormActivation(\n",
      "          (0): Conv2d(144, 144, kernel_size=(3, 3), stride=(1, 1), padding=(1, 1), groups=144, bias=False)\n",
      "          (1): BatchNorm2d(144, eps=1e-05, momentum=0.1, affine=True, track_running_stats=True)\n",
      "          (2): ReLU6(inplace=True)\n",
      "        )\n",
      "        (2): Conv2d(144, 24, kernel_size=(1, 1), stride=(1, 1), bias=False)\n",
      "        (3): BatchNorm2d(24, eps=1e-05, momentum=0.1, affine=True, track_running_stats=True)\n",
      "      )\n",
      "    )\n",
      "    (4): InvertedResidual(\n",
      "      (conv): Sequential(\n",
      "        (0): Conv2dNormActivation(\n",
      "          (0): Conv2d(24, 144, kernel_size=(1, 1), stride=(1, 1), bias=False)\n",
      "          (1): BatchNorm2d(144, eps=1e-05, momentum=0.1, affine=True, track_running_stats=True)\n",
      "          (2): ReLU6(inplace=True)\n",
      "        )\n",
      "        (1): Conv2dNormActivation(\n",
      "          (0): Conv2d(144, 144, kernel_size=(3, 3), stride=(2, 2), padding=(1, 1), groups=144, bias=False)\n",
      "          (1): BatchNorm2d(144, eps=1e-05, momentum=0.1, affine=True, track_running_stats=True)\n",
      "          (2): ReLU6(inplace=True)\n",
      "        )\n",
      "        (2): Conv2d(144, 32, kernel_size=(1, 1), stride=(1, 1), bias=False)\n",
      "        (3): BatchNorm2d(32, eps=1e-05, momentum=0.1, affine=True, track_running_stats=True)\n",
      "      )\n",
      "    )\n",
      "    (5): InvertedResidual(\n",
      "      (conv): Sequential(\n",
      "        (0): Conv2dNormActivation(\n",
      "          (0): Conv2d(32, 192, kernel_size=(1, 1), stride=(1, 1), bias=False)\n",
      "          (1): BatchNorm2d(192, eps=1e-05, momentum=0.1, affine=True, track_running_stats=True)\n",
      "          (2): ReLU6(inplace=True)\n",
      "        )\n",
      "        (1): Conv2dNormActivation(\n",
      "          (0): Conv2d(192, 192, kernel_size=(3, 3), stride=(1, 1), padding=(1, 1), groups=192, bias=False)\n",
      "          (1): BatchNorm2d(192, eps=1e-05, momentum=0.1, affine=True, track_running_stats=True)\n",
      "          (2): ReLU6(inplace=True)\n",
      "        )\n",
      "        (2): Conv2d(192, 32, kernel_size=(1, 1), stride=(1, 1), bias=False)\n",
      "        (3): BatchNorm2d(32, eps=1e-05, momentum=0.1, affine=True, track_running_stats=True)\n",
      "      )\n",
      "    )\n",
      "    (6): InvertedResidual(\n",
      "      (conv): Sequential(\n",
      "        (0): Conv2dNormActivation(\n",
      "          (0): Conv2d(32, 192, kernel_size=(1, 1), stride=(1, 1), bias=False)\n",
      "          (1): BatchNorm2d(192, eps=1e-05, momentum=0.1, affine=True, track_running_stats=True)\n",
      "          (2): ReLU6(inplace=True)\n",
      "        )\n",
      "        (1): Conv2dNormActivation(\n",
      "          (0): Conv2d(192, 192, kernel_size=(3, 3), stride=(1, 1), padding=(1, 1), groups=192, bias=False)\n",
      "          (1): BatchNorm2d(192, eps=1e-05, momentum=0.1, affine=True, track_running_stats=True)\n",
      "          (2): ReLU6(inplace=True)\n",
      "        )\n",
      "        (2): Conv2d(192, 32, kernel_size=(1, 1), stride=(1, 1), bias=False)\n",
      "        (3): BatchNorm2d(32, eps=1e-05, momentum=0.1, affine=True, track_running_stats=True)\n",
      "      )\n",
      "    )\n",
      "    (7): InvertedResidual(\n",
      "      (conv): Sequential(\n",
      "        (0): Conv2dNormActivation(\n",
      "          (0): Conv2d(32, 192, kernel_size=(1, 1), stride=(1, 1), bias=False)\n",
      "          (1): BatchNorm2d(192, eps=1e-05, momentum=0.1, affine=True, track_running_stats=True)\n",
      "          (2): ReLU6(inplace=True)\n",
      "        )\n",
      "        (1): Conv2dNormActivation(\n",
      "          (0): Conv2d(192, 192, kernel_size=(3, 3), stride=(2, 2), padding=(1, 1), groups=192, bias=False)\n",
      "          (1): BatchNorm2d(192, eps=1e-05, momentum=0.1, affine=True, track_running_stats=True)\n",
      "          (2): ReLU6(inplace=True)\n",
      "        )\n",
      "        (2): Conv2d(192, 64, kernel_size=(1, 1), stride=(1, 1), bias=False)\n",
      "        (3): BatchNorm2d(64, eps=1e-05, momentum=0.1, affine=True, track_running_stats=True)\n",
      "      )\n",
      "    )\n",
      "    (8): InvertedResidual(\n",
      "      (conv): Sequential(\n",
      "        (0): Conv2dNormActivation(\n",
      "          (0): Conv2d(64, 384, kernel_size=(1, 1), stride=(1, 1), bias=False)\n",
      "          (1): BatchNorm2d(384, eps=1e-05, momentum=0.1, affine=True, track_running_stats=True)\n",
      "          (2): ReLU6(inplace=True)\n",
      "        )\n",
      "        (1): Conv2dNormActivation(\n",
      "          (0): Conv2d(384, 384, kernel_size=(3, 3), stride=(1, 1), padding=(1, 1), groups=384, bias=False)\n",
      "          (1): BatchNorm2d(384, eps=1e-05, momentum=0.1, affine=True, track_running_stats=True)\n",
      "          (2): ReLU6(inplace=True)\n",
      "        )\n",
      "        (2): Conv2d(384, 64, kernel_size=(1, 1), stride=(1, 1), bias=False)\n",
      "        (3): BatchNorm2d(64, eps=1e-05, momentum=0.1, affine=True, track_running_stats=True)\n",
      "      )\n",
      "    )\n",
      "    (9): InvertedResidual(\n",
      "      (conv): Sequential(\n",
      "        (0): Conv2dNormActivation(\n",
      "          (0): Conv2d(64, 384, kernel_size=(1, 1), stride=(1, 1), bias=False)\n",
      "          (1): BatchNorm2d(384, eps=1e-05, momentum=0.1, affine=True, track_running_stats=True)\n",
      "          (2): ReLU6(inplace=True)\n",
      "        )\n",
      "        (1): Conv2dNormActivation(\n",
      "          (0): Conv2d(384, 384, kernel_size=(3, 3), stride=(1, 1), padding=(1, 1), groups=384, bias=False)\n",
      "          (1): BatchNorm2d(384, eps=1e-05, momentum=0.1, affine=True, track_running_stats=True)\n",
      "          (2): ReLU6(inplace=True)\n",
      "        )\n",
      "        (2): Conv2d(384, 64, kernel_size=(1, 1), stride=(1, 1), bias=False)\n",
      "        (3): BatchNorm2d(64, eps=1e-05, momentum=0.1, affine=True, track_running_stats=True)\n",
      "      )\n",
      "    )\n",
      "    (10): InvertedResidual(\n",
      "      (conv): Sequential(\n",
      "        (0): Conv2dNormActivation(\n",
      "          (0): Conv2d(64, 384, kernel_size=(1, 1), stride=(1, 1), bias=False)\n",
      "          (1): BatchNorm2d(384, eps=1e-05, momentum=0.1, affine=True, track_running_stats=True)\n",
      "          (2): ReLU6(inplace=True)\n",
      "        )\n",
      "        (1): Conv2dNormActivation(\n",
      "          (0): Conv2d(384, 384, kernel_size=(3, 3), stride=(1, 1), padding=(1, 1), groups=384, bias=False)\n",
      "          (1): BatchNorm2d(384, eps=1e-05, momentum=0.1, affine=True, track_running_stats=True)\n",
      "          (2): ReLU6(inplace=True)\n",
      "        )\n",
      "        (2): Conv2d(384, 64, kernel_size=(1, 1), stride=(1, 1), bias=False)\n",
      "        (3): BatchNorm2d(64, eps=1e-05, momentum=0.1, affine=True, track_running_stats=True)\n",
      "      )\n",
      "    )\n",
      "    (11): InvertedResidual(\n",
      "      (conv): Sequential(\n",
      "        (0): Conv2dNormActivation(\n",
      "          (0): Conv2d(64, 384, kernel_size=(1, 1), stride=(1, 1), bias=False)\n",
      "          (1): BatchNorm2d(384, eps=1e-05, momentum=0.1, affine=True, track_running_stats=True)\n",
      "          (2): ReLU6(inplace=True)\n",
      "        )\n",
      "        (1): Conv2dNormActivation(\n",
      "          (0): Conv2d(384, 384, kernel_size=(3, 3), stride=(1, 1), padding=(1, 1), groups=384, bias=False)\n",
      "          (1): BatchNorm2d(384, eps=1e-05, momentum=0.1, affine=True, track_running_stats=True)\n",
      "          (2): ReLU6(inplace=True)\n",
      "        )\n",
      "        (2): Conv2d(384, 96, kernel_size=(1, 1), stride=(1, 1), bias=False)\n",
      "        (3): BatchNorm2d(96, eps=1e-05, momentum=0.1, affine=True, track_running_stats=True)\n",
      "      )\n",
      "    )\n",
      "    (12): InvertedResidual(\n",
      "      (conv): Sequential(\n",
      "        (0): Conv2dNormActivation(\n",
      "          (0): Conv2d(96, 576, kernel_size=(1, 1), stride=(1, 1), bias=False)\n",
      "          (1): BatchNorm2d(576, eps=1e-05, momentum=0.1, affine=True, track_running_stats=True)\n",
      "          (2): ReLU6(inplace=True)\n",
      "        )\n",
      "        (1): Conv2dNormActivation(\n",
      "          (0): Conv2d(576, 576, kernel_size=(3, 3), stride=(1, 1), padding=(1, 1), groups=576, bias=False)\n",
      "          (1): BatchNorm2d(576, eps=1e-05, momentum=0.1, affine=True, track_running_stats=True)\n",
      "          (2): ReLU6(inplace=True)\n",
      "        )\n",
      "        (2): Conv2d(576, 96, kernel_size=(1, 1), stride=(1, 1), bias=False)\n",
      "        (3): BatchNorm2d(96, eps=1e-05, momentum=0.1, affine=True, track_running_stats=True)\n",
      "      )\n",
      "    )\n",
      "    (13): InvertedResidual(\n",
      "      (conv): Sequential(\n",
      "        (0): Conv2dNormActivation(\n",
      "          (0): Conv2d(96, 576, kernel_size=(1, 1), stride=(1, 1), bias=False)\n",
      "          (1): BatchNorm2d(576, eps=1e-05, momentum=0.1, affine=True, track_running_stats=True)\n",
      "          (2): ReLU6(inplace=True)\n",
      "        )\n",
      "        (1): Conv2dNormActivation(\n",
      "          (0): Conv2d(576, 576, kernel_size=(3, 3), stride=(1, 1), padding=(1, 1), groups=576, bias=False)\n",
      "          (1): BatchNorm2d(576, eps=1e-05, momentum=0.1, affine=True, track_running_stats=True)\n",
      "          (2): ReLU6(inplace=True)\n",
      "        )\n",
      "        (2): Conv2d(576, 96, kernel_size=(1, 1), stride=(1, 1), bias=False)\n",
      "        (3): BatchNorm2d(96, eps=1e-05, momentum=0.1, affine=True, track_running_stats=True)\n",
      "      )\n",
      "    )\n",
      "    (14): InvertedResidual(\n",
      "      (conv): Sequential(\n",
      "        (0): Conv2dNormActivation(\n",
      "          (0): Conv2d(96, 576, kernel_size=(1, 1), stride=(1, 1), bias=False)\n",
      "          (1): BatchNorm2d(576, eps=1e-05, momentum=0.1, affine=True, track_running_stats=True)\n",
      "          (2): ReLU6(inplace=True)\n",
      "        )\n",
      "        (1): Conv2dNormActivation(\n",
      "          (0): Conv2d(576, 576, kernel_size=(3, 3), stride=(2, 2), padding=(1, 1), groups=576, bias=False)\n",
      "          (1): BatchNorm2d(576, eps=1e-05, momentum=0.1, affine=True, track_running_stats=True)\n",
      "          (2): ReLU6(inplace=True)\n",
      "        )\n",
      "        (2): Conv2d(576, 160, kernel_size=(1, 1), stride=(1, 1), bias=False)\n",
      "        (3): BatchNorm2d(160, eps=1e-05, momentum=0.1, affine=True, track_running_stats=True)\n",
      "      )\n",
      "    )\n",
      "    (15): InvertedResidual(\n",
      "      (conv): Sequential(\n",
      "        (0): Conv2dNormActivation(\n",
      "          (0): Conv2d(160, 960, kernel_size=(1, 1), stride=(1, 1), bias=False)\n",
      "          (1): BatchNorm2d(960, eps=1e-05, momentum=0.1, affine=True, track_running_stats=True)\n",
      "          (2): ReLU6(inplace=True)\n",
      "        )\n",
      "        (1): Conv2dNormActivation(\n",
      "          (0): Conv2d(960, 960, kernel_size=(3, 3), stride=(1, 1), padding=(1, 1), groups=960, bias=False)\n",
      "          (1): BatchNorm2d(960, eps=1e-05, momentum=0.1, affine=True, track_running_stats=True)\n",
      "          (2): ReLU6(inplace=True)\n",
      "        )\n",
      "        (2): Conv2d(960, 160, kernel_size=(1, 1), stride=(1, 1), bias=False)\n",
      "        (3): BatchNorm2d(160, eps=1e-05, momentum=0.1, affine=True, track_running_stats=True)\n",
      "      )\n",
      "    )\n",
      "    (16): InvertedResidual(\n",
      "      (conv): Sequential(\n",
      "        (0): Conv2dNormActivation(\n",
      "          (0): Conv2d(160, 960, kernel_size=(1, 1), stride=(1, 1), bias=False)\n",
      "          (1): BatchNorm2d(960, eps=1e-05, momentum=0.1, affine=True, track_running_stats=True)\n",
      "          (2): ReLU6(inplace=True)\n",
      "        )\n",
      "        (1): Conv2dNormActivation(\n",
      "          (0): Conv2d(960, 960, kernel_size=(3, 3), stride=(1, 1), padding=(1, 1), groups=960, bias=False)\n",
      "          (1): BatchNorm2d(960, eps=1e-05, momentum=0.1, affine=True, track_running_stats=True)\n",
      "          (2): ReLU6(inplace=True)\n",
      "        )\n",
      "        (2): Conv2d(960, 160, kernel_size=(1, 1), stride=(1, 1), bias=False)\n",
      "        (3): BatchNorm2d(160, eps=1e-05, momentum=0.1, affine=True, track_running_stats=True)\n",
      "      )\n",
      "    )\n",
      "    (17): InvertedResidual(\n",
      "      (conv): Sequential(\n",
      "        (0): Conv2dNormActivation(\n",
      "          (0): Conv2d(160, 960, kernel_size=(1, 1), stride=(1, 1), bias=False)\n",
      "          (1): BatchNorm2d(960, eps=1e-05, momentum=0.1, affine=True, track_running_stats=True)\n",
      "          (2): ReLU6(inplace=True)\n",
      "        )\n",
      "        (1): Conv2dNormActivation(\n",
      "          (0): Conv2d(960, 960, kernel_size=(3, 3), stride=(1, 1), padding=(1, 1), groups=960, bias=False)\n",
      "          (1): BatchNorm2d(960, eps=1e-05, momentum=0.1, affine=True, track_running_stats=True)\n",
      "          (2): ReLU6(inplace=True)\n",
      "        )\n",
      "        (2): Conv2d(960, 320, kernel_size=(1, 1), stride=(1, 1), bias=False)\n",
      "        (3): BatchNorm2d(320, eps=1e-05, momentum=0.1, affine=True, track_running_stats=True)\n",
      "      )\n",
      "    )\n",
      "    (18): Conv2dNormActivation(\n",
      "      (0): Conv2d(320, 1280, kernel_size=(1, 1), stride=(1, 1), bias=False)\n",
      "      (1): BatchNorm2d(1280, eps=1e-05, momentum=0.1, affine=True, track_running_stats=True)\n",
      "      (2): ReLU6(inplace=True)\n",
      "    )\n",
      "  )\n",
      "  (classifier): Sequential(\n",
      "    (0): Dropout(p=0.2, inplace=False)\n",
      "    (1): Linear(in_features=1280, out_features=10, bias=True)\n",
      "  )\n",
      ")\n"
     ]
    }
   ],
   "source": [
    "print(mobilenet_v2)"
   ]
  },
  {
   "cell_type": "code",
   "execution_count": 23,
   "id": "f167a626",
   "metadata": {},
   "outputs": [
    {
     "data": {
      "text/plain": [
       "====================================================================================================\n",
       "Layer (type:depth-idx)                             Output Shape              Param #\n",
       "====================================================================================================\n",
       "MobileNetV2                                        [1, 10]                   --\n",
       "├─Sequential: 1-1                                  [1, 1280, 10, 10]         --\n",
       "│    └─Conv2dNormActivation: 2-1                   [1, 32, 150, 150]         --\n",
       "│    │    └─Conv2d: 3-1                            [1, 32, 150, 150]         (864)\n",
       "│    │    └─BatchNorm2d: 3-2                       [1, 32, 150, 150]         (64)\n",
       "│    │    └─ReLU6: 3-3                             [1, 32, 150, 150]         --\n",
       "│    └─InvertedResidual: 2-2                       [1, 16, 150, 150]         --\n",
       "│    │    └─Sequential: 3-4                        [1, 16, 150, 150]         (896)\n",
       "│    └─InvertedResidual: 2-3                       [1, 24, 75, 75]           --\n",
       "│    │    └─Sequential: 3-5                        [1, 24, 75, 75]           (5,136)\n",
       "│    └─InvertedResidual: 2-4                       [1, 24, 75, 75]           --\n",
       "│    │    └─Sequential: 3-6                        [1, 24, 75, 75]           (8,832)\n",
       "│    └─InvertedResidual: 2-5                       [1, 32, 38, 38]           --\n",
       "│    │    └─Sequential: 3-7                        [1, 32, 38, 38]           (10,000)\n",
       "│    └─InvertedResidual: 2-6                       [1, 32, 38, 38]           --\n",
       "│    │    └─Sequential: 3-8                        [1, 32, 38, 38]           (14,848)\n",
       "│    └─InvertedResidual: 2-7                       [1, 32, 38, 38]           --\n",
       "│    │    └─Sequential: 3-9                        [1, 32, 38, 38]           (14,848)\n",
       "│    └─InvertedResidual: 2-8                       [1, 64, 19, 19]           --\n",
       "│    │    └─Sequential: 3-10                       [1, 64, 19, 19]           (21,056)\n",
       "│    └─InvertedResidual: 2-9                       [1, 64, 19, 19]           --\n",
       "│    │    └─Sequential: 3-11                       [1, 64, 19, 19]           (54,272)\n",
       "│    └─InvertedResidual: 2-10                      [1, 64, 19, 19]           --\n",
       "│    │    └─Sequential: 3-12                       [1, 64, 19, 19]           (54,272)\n",
       "│    └─InvertedResidual: 2-11                      [1, 64, 19, 19]           --\n",
       "│    │    └─Sequential: 3-13                       [1, 64, 19, 19]           (54,272)\n",
       "│    └─InvertedResidual: 2-12                      [1, 96, 19, 19]           --\n",
       "│    │    └─Sequential: 3-14                       [1, 96, 19, 19]           (66,624)\n",
       "│    └─InvertedResidual: 2-13                      [1, 96, 19, 19]           --\n",
       "│    │    └─Sequential: 3-15                       [1, 96, 19, 19]           (118,272)\n",
       "│    └─InvertedResidual: 2-14                      [1, 96, 19, 19]           --\n",
       "│    │    └─Sequential: 3-16                       [1, 96, 19, 19]           (118,272)\n",
       "│    └─InvertedResidual: 2-15                      [1, 160, 10, 10]          --\n",
       "│    │    └─Sequential: 3-17                       [1, 160, 10, 10]          (155,264)\n",
       "│    └─InvertedResidual: 2-16                      [1, 160, 10, 10]          --\n",
       "│    │    └─Sequential: 3-18                       [1, 160, 10, 10]          (320,000)\n",
       "│    └─InvertedResidual: 2-17                      [1, 160, 10, 10]          --\n",
       "│    │    └─Sequential: 3-19                       [1, 160, 10, 10]          (320,000)\n",
       "│    └─InvertedResidual: 2-18                      [1, 320, 10, 10]          --\n",
       "│    │    └─Sequential: 3-20                       [1, 320, 10, 10]          (473,920)\n",
       "│    └─Conv2dNormActivation: 2-19                  [1, 1280, 10, 10]         --\n",
       "│    │    └─Conv2d: 3-21                           [1, 1280, 10, 10]         (409,600)\n",
       "│    │    └─BatchNorm2d: 3-22                      [1, 1280, 10, 10]         (2,560)\n",
       "│    │    └─ReLU6: 3-23                            [1, 1280, 10, 10]         --\n",
       "├─Sequential: 1-2                                  [1, 10]                   --\n",
       "│    └─Dropout: 2-20                               [1, 1280]                 --\n",
       "│    └─Linear: 2-21                                [1, 10]                   12,810\n",
       "====================================================================================================\n",
       "Total params: 2,236,682\n",
       "Trainable params: 12,810\n",
       "Non-trainable params: 2,223,872\n",
       "Total mult-adds (M): 563.17\n",
       "====================================================================================================\n",
       "Input size (MB): 1.07\n",
       "Forward/backward pass size (MB): 195.02\n",
       "Params size (MB): 8.95\n",
       "Estimated Total Size (MB): 205.04\n",
       "===================================================================================================="
      ]
     },
     "execution_count": 23,
     "metadata": {},
     "output_type": "execute_result"
    }
   ],
   "source": [
    "from torchinfo import summary\n",
    "\n",
    "# Print model summary\n",
    "summary(mobilenet_v2, input_size=(1, 3, 299, 299))  # (batch_size, input_features)"
   ]
  },
  {
   "cell_type": "markdown",
   "id": "6a24d489",
   "metadata": {},
   "source": [
    "### 1. Data Preprocessing\n",
    "\n",
    "Start by loading the CIFAR-10 dataset using PyTorch’s `torchvision.datasets`. This dataset contains 60,000 color images in 10 classes, with 6,000 images per class.  \n",
    "You should apply preprocessing steps to the images before feeding them into your model. The most common steps are:\n",
    "\n",
    "- **Normalization:** Adjusts pixel values so they have a mean and standard deviation close to zero. This helps the model train faster and more reliably.\n",
    "- **Resizing:** CIFAR-10 images are already 32x32 pixels, so resizing is not needed here.\n",
    "- **Augmentation (optional):** You can add random transformations like flipping, cropping, or rotating images to make your model more robust.\n",
    "\n",
    "After preprocessing, use a DataLoader to batch and shuffle your data, which is important for efficient training.\n",
    "\n",
    "It’s also good practice to visualize a few images and their labels to understand your data and confirm that preprocessing is working as expected.\n",
    "\n",
    "---\n",
    "\n",
    "### 2. Model Architecture\n",
    "\n",
    "Design a Convolutional Neural Network (CNN) suitable for image classification.  \n",
    "A typical CNN for CIFAR-10 includes:\n",
    "\n",
    "- **Convolutional layers:** These extract features from the images using filters.\n",
    "- **Pooling layers:** These reduce the spatial size of the feature maps, making computation more efficient and helping the model focus on the most important features.\n",
    "- **Fully connected layers:** After flattening the feature maps, these layers perform the actual classification.\n",
    "\n",
    "Start with a simple architecture:  \n",
    "- A couple of convolutional layers followed by pooling.\n",
    "- One or two fully connected layers at the end.\n",
    "- The final layer should have 10 outputs (one for each class).\n",
    "\n",
    "You can experiment with deeper or more complex architectures later.  \n",
    "Once your model is defined, you’ll be ready to move on to training."
   ]
  },
  {
   "cell_type": "markdown",
   "id": "5220dab3",
   "metadata": {},
   "source": []
  }
 ],
 "metadata": {
  "kernelspec": {
   "display_name": ".venv",
   "language": "python",
   "name": "python3"
  },
  "language_info": {
   "codemirror_mode": {
    "name": "ipython",
    "version": 3
   },
   "file_extension": ".py",
   "mimetype": "text/x-python",
   "name": "python",
   "nbconvert_exporter": "python",
   "pygments_lexer": "ipython3",
   "version": "3.9.6"
  }
 },
 "nbformat": 4,
 "nbformat_minor": 5
}
